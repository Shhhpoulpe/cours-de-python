{
 "metadata": {
  "language_info": {
   "codemirror_mode": {
    "name": "ipython",
    "version": 3
   },
   "file_extension": ".py",
   "mimetype": "text/x-python",
   "name": "python",
   "nbconvert_exporter": "python",
   "pygments_lexer": "ipython3",
   "version": "3.8.5-final"
  },
  "orig_nbformat": 2,
  "kernelspec": {
   "name": "python38564bite0d01b9fff0448a890998ca8de754687",
   "display_name": "Python 3.8.5 64-bit"
  }
 },
 "nbformat": 4,
 "nbformat_minor": 2,
 "cells": [
  {
   "cell_type": "code",
   "execution_count": 1,
   "metadata": {},
   "outputs": [],
   "source": [
    "import pandas as pd"
   ]
  },
  {
   "cell_type": "code",
   "execution_count": 2,
   "metadata": {},
   "outputs": [],
   "source": [
    "class FeatureRecipe:\n",
    "    def __init__(self, data: pd.DataFrame):\n",
    "        print('init')\n",
    "        self.data = data\n",
    "        self.continuous = None\n",
    "        self.categorical = [[],[],[]]\n",
    "        self.discrete = None\n",
    "        self.datetime = None\n",
    "\n",
    "    def separate_variable_types(self) -> None:\n",
    "        print('separate variables')\n",
    "        for i in self.data.columns:\n",
    "            if self.data[i].dtypes == int:\n",
    "                self.categorical[0].append(self.data[i])\n",
    "            elif elf.data[i].dtypes == float:\n",
    "                self.categorical[1].append(self.data[i])\n",
    "            else:\n",
    "                self.categorical[2].append(self.data[i])\n",
    "    \n",
    "    def drop_uselessf(self):\n",
    "        \"\"\" TODO : Supprimer les colonnes inutiles du dataset \"\"\"\n",
    "        pass\n",
    "    \n",
    "    def deal_duplicate(self):\n",
    "        self.data.drop_duplicates(keep='first')\n",
    "        pass\n",
    "    \n",
    "    def drop_nanp(self, threshold: float):\n",
    "        def drop_nanp(self, thresold: float):\n",
    "        \"\"\"\n",
    "        Drop NaN columns according to a thresold\n",
    "        \"\"\"\n",
    "        def deal_nanp(df:pd.DataFrame, thresold: float):\n",
    "            bf=[]\n",
    "            for c in self.data.columns.to_list():\n",
    "                if self.data[c].isna().sum()/self.data.shape[0] > thresold:\n",
    "                    bf.append(c)\n",
    "            logging.debug(\"{} feature have more than {} NaN \".format(len(bf),thresold))\n",
    "            logging.debug('\\n\\n - - - features - - -  \\n {}'.format(bf))\n",
    "            return bf\n",
    "        \n",
    "        self.data = self.data.drop(deal_nanp(self.data, thresold), axis=1)\n",
    "        logging.debug('Some NaN features droped according to {} thresold'.format(thresold))\n",
    "    \n",
    "    def deal_dtime(self):\n",
    "        \"\"\" TODO : Traiter les DateTime \"\"\"\n",
    "        pass\n",
    "\n",
    "    def prepare_data(self, threshold: float):\n",
    "        self.separate_variable_types()\n",
    "        self.drop_uselessf()\n",
    "        self.deal_duplicate()\n",
    "        self.drop_nanp(threshold)\n",
    "        self.deal_dtime()"
   ]
  }
 ]
}