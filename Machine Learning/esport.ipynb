{
 "metadata": {
  "language_info": {
   "codemirror_mode": {
    "name": "ipython",
    "version": 3
   },
   "file_extension": ".py",
   "mimetype": "text/x-python",
   "name": "python",
   "nbconvert_exporter": "python",
   "pygments_lexer": "ipython3",
   "version": "3.8.5-final"
  },
  "orig_nbformat": 2,
  "kernelspec": {
   "name": "Python 3.8.5 32-bit",
   "display_name": "Python 3.8.5 32-bit",
   "metadata": {
    "interpreter": {
     "hash": "ae0dc80f538b34a2c5abcdc2f9981d8ad725289b3d5217f994939e521068f162"
    }
   }
  }
 },
 "nbformat": 4,
 "nbformat_minor": 2,
 "cells": [
  {
   "cell_type": "code",
   "execution_count": 1,
   "metadata": {},
   "outputs": [],
   "source": [
    "import math\n",
    "import numpy as np\n",
    "import pandas as pd\n",
    "import matplotlib.pyplot as plt\n",
    "from sklearn.preprocessing import LabelEncoder"
   ]
  },
  {
   "cell_type": "code",
   "execution_count": 2,
   "metadata": {},
   "outputs": [],
   "source": [
    "esport = pd.read_csv(\"csv/HistoricalEsportData.csv\",sep=',',encoding=\"ISO-8859-1\")"
   ]
  },
  {
   "cell_type": "code",
   "execution_count": 3,
   "metadata": {},
   "outputs": [
    {
     "output_type": "execute_result",
     "data": {
      "text/plain": [
       "           Date              Game  Earnings  Players  Tournaments\n",
       "0      1/1/1998        QuakeWorld   15000.0        8            1\n",
       "1      5/1/1998          Quake II   14600.0        4            1\n",
       "2      7/1/1998          Quake II   15000.0        5            1\n",
       "3      7/1/1998        QuakeWorld    6500.0        4            1\n",
       "4     11/1/1998          Quake II   36600.0       13            2\n",
       "...         ...               ...       ...      ...          ...\n",
       "6210   9/1/2020           Tetr.io     200.0        4            1\n",
       "6211   9/1/2020          Beat Aim     160.0        7            2\n",
       "6212   9/1/2020            Tetris     125.0        2            1\n",
       "6213   9/1/2020  Rivals of Aether      50.0        4            1\n",
       "6214   9/1/2020      Artifact 2.0      45.0        1            1\n",
       "\n",
       "[6215 rows x 5 columns]"
      ],
      "text/html": "<div>\n<style scoped>\n    .dataframe tbody tr th:only-of-type {\n        vertical-align: middle;\n    }\n\n    .dataframe tbody tr th {\n        vertical-align: top;\n    }\n\n    .dataframe thead th {\n        text-align: right;\n    }\n</style>\n<table border=\"1\" class=\"dataframe\">\n  <thead>\n    <tr style=\"text-align: right;\">\n      <th></th>\n      <th>Date</th>\n      <th>Game</th>\n      <th>Earnings</th>\n      <th>Players</th>\n      <th>Tournaments</th>\n    </tr>\n  </thead>\n  <tbody>\n    <tr>\n      <th>0</th>\n      <td>1/1/1998</td>\n      <td>QuakeWorld</td>\n      <td>15000.0</td>\n      <td>8</td>\n      <td>1</td>\n    </tr>\n    <tr>\n      <th>1</th>\n      <td>5/1/1998</td>\n      <td>Quake II</td>\n      <td>14600.0</td>\n      <td>4</td>\n      <td>1</td>\n    </tr>\n    <tr>\n      <th>2</th>\n      <td>7/1/1998</td>\n      <td>Quake II</td>\n      <td>15000.0</td>\n      <td>5</td>\n      <td>1</td>\n    </tr>\n    <tr>\n      <th>3</th>\n      <td>7/1/1998</td>\n      <td>QuakeWorld</td>\n      <td>6500.0</td>\n      <td>4</td>\n      <td>1</td>\n    </tr>\n    <tr>\n      <th>4</th>\n      <td>11/1/1998</td>\n      <td>Quake II</td>\n      <td>36600.0</td>\n      <td>13</td>\n      <td>2</td>\n    </tr>\n    <tr>\n      <th>...</th>\n      <td>...</td>\n      <td>...</td>\n      <td>...</td>\n      <td>...</td>\n      <td>...</td>\n    </tr>\n    <tr>\n      <th>6210</th>\n      <td>9/1/2020</td>\n      <td>Tetr.io</td>\n      <td>200.0</td>\n      <td>4</td>\n      <td>1</td>\n    </tr>\n    <tr>\n      <th>6211</th>\n      <td>9/1/2020</td>\n      <td>Beat Aim</td>\n      <td>160.0</td>\n      <td>7</td>\n      <td>2</td>\n    </tr>\n    <tr>\n      <th>6212</th>\n      <td>9/1/2020</td>\n      <td>Tetris</td>\n      <td>125.0</td>\n      <td>2</td>\n      <td>1</td>\n    </tr>\n    <tr>\n      <th>6213</th>\n      <td>9/1/2020</td>\n      <td>Rivals of Aether</td>\n      <td>50.0</td>\n      <td>4</td>\n      <td>1</td>\n    </tr>\n    <tr>\n      <th>6214</th>\n      <td>9/1/2020</td>\n      <td>Artifact 2.0</td>\n      <td>45.0</td>\n      <td>1</td>\n      <td>1</td>\n    </tr>\n  </tbody>\n</table>\n<p>6215 rows × 5 columns</p>\n</div>"
     },
     "metadata": {},
     "execution_count": 3
    }
   ],
   "source": [
    "esport"
   ]
  },
  {
   "cell_type": "code",
   "execution_count": 4,
   "metadata": {},
   "outputs": [
    {
     "output_type": "execute_result",
     "data": {
      "text/plain": [
       "Date           0\n",
       "Game           0\n",
       "Earnings       0\n",
       "Players        0\n",
       "Tournaments    0\n",
       "dtype: int64"
      ]
     },
     "metadata": {},
     "execution_count": 4
    }
   ],
   "source": [
    "esport.isnull().sum()"
   ]
  },
  {
   "cell_type": "code",
   "execution_count": 5,
   "metadata": {},
   "outputs": [
    {
     "output_type": "stream",
     "name": "stdout",
     "text": [
      "<class 'pandas.core.frame.DataFrame'>\nRangeIndex: 6215 entries, 0 to 6214\nData columns (total 5 columns):\n #   Column       Non-Null Count  Dtype  \n---  ------       --------------  -----  \n 0   Date         6215 non-null   object \n 1   Game         6215 non-null   object \n 2   Earnings     6215 non-null   float64\n 3   Players      6215 non-null   int64  \n 4   Tournaments  6215 non-null   int64  \ndtypes: float64(1), int64(2), object(2)\nmemory usage: 194.3+ KB\n"
     ]
    }
   ],
   "source": [
    "esport.info()"
   ]
  },
  {
   "cell_type": "code",
   "execution_count": 6,
   "metadata": {},
   "outputs": [
    {
     "output_type": "execute_result",
     "data": {
      "text/plain": [
       "           Earnings      Players  Tournaments\n",
       "count  6.215000e+03  6215.000000  6215.000000\n",
       "mean   1.407601e+05    50.310217     6.524859\n",
       "std    9.577379e+05   115.961782    12.411488\n",
       "min    0.000000e+00     0.000000     1.000000\n",
       "25%    1.000000e+03     5.000000     1.000000\n",
       "50%    8.776800e+03    15.000000     2.000000\n",
       "75%    5.216008e+04    41.000000     6.000000\n",
       "max    3.671356e+07  1699.000000   172.000000"
      ],
      "text/html": "<div>\n<style scoped>\n    .dataframe tbody tr th:only-of-type {\n        vertical-align: middle;\n    }\n\n    .dataframe tbody tr th {\n        vertical-align: top;\n    }\n\n    .dataframe thead th {\n        text-align: right;\n    }\n</style>\n<table border=\"1\" class=\"dataframe\">\n  <thead>\n    <tr style=\"text-align: right;\">\n      <th></th>\n      <th>Earnings</th>\n      <th>Players</th>\n      <th>Tournaments</th>\n    </tr>\n  </thead>\n  <tbody>\n    <tr>\n      <th>count</th>\n      <td>6.215000e+03</td>\n      <td>6215.000000</td>\n      <td>6215.000000</td>\n    </tr>\n    <tr>\n      <th>mean</th>\n      <td>1.407601e+05</td>\n      <td>50.310217</td>\n      <td>6.524859</td>\n    </tr>\n    <tr>\n      <th>std</th>\n      <td>9.577379e+05</td>\n      <td>115.961782</td>\n      <td>12.411488</td>\n    </tr>\n    <tr>\n      <th>min</th>\n      <td>0.000000e+00</td>\n      <td>0.000000</td>\n      <td>1.000000</td>\n    </tr>\n    <tr>\n      <th>25%</th>\n      <td>1.000000e+03</td>\n      <td>5.000000</td>\n      <td>1.000000</td>\n    </tr>\n    <tr>\n      <th>50%</th>\n      <td>8.776800e+03</td>\n      <td>15.000000</td>\n      <td>2.000000</td>\n    </tr>\n    <tr>\n      <th>75%</th>\n      <td>5.216008e+04</td>\n      <td>41.000000</td>\n      <td>6.000000</td>\n    </tr>\n    <tr>\n      <th>max</th>\n      <td>3.671356e+07</td>\n      <td>1699.000000</td>\n      <td>172.000000</td>\n    </tr>\n  </tbody>\n</table>\n</div>"
     },
     "metadata": {},
     "execution_count": 6
    }
   ],
   "source": [
    "esport.describe()"
   ]
  },
  {
   "cell_type": "code",
   "execution_count": 7,
   "metadata": {},
   "outputs": [],
   "source": [
    "esport.Date = esport.Date.str[-4:]\n",
    "esport.rename(columns={'Date': 'Year'}, inplace=True)\n",
    "lb = LabelEncoder()\n",
    "esport.Game = lb.fit_transform(esport.Game)"
   ]
  },
  {
   "cell_type": "code",
   "execution_count": 8,
   "metadata": {},
   "outputs": [
    {
     "output_type": "execute_result",
     "data": {
      "text/plain": [
       "   Year  Game  Earnings  Players  Tournaments\n",
       "0  1998   324   15000.0        8            1\n",
       "1  1998   321   14600.0        4            1\n",
       "2  1998   321   15000.0        5            1\n",
       "3  1998   324    6500.0        4            1\n",
       "4  1998   321   36600.0       13            2"
      ],
      "text/html": "<div>\n<style scoped>\n    .dataframe tbody tr th:only-of-type {\n        vertical-align: middle;\n    }\n\n    .dataframe tbody tr th {\n        vertical-align: top;\n    }\n\n    .dataframe thead th {\n        text-align: right;\n    }\n</style>\n<table border=\"1\" class=\"dataframe\">\n  <thead>\n    <tr style=\"text-align: right;\">\n      <th></th>\n      <th>Year</th>\n      <th>Game</th>\n      <th>Earnings</th>\n      <th>Players</th>\n      <th>Tournaments</th>\n    </tr>\n  </thead>\n  <tbody>\n    <tr>\n      <th>0</th>\n      <td>1998</td>\n      <td>324</td>\n      <td>15000.0</td>\n      <td>8</td>\n      <td>1</td>\n    </tr>\n    <tr>\n      <th>1</th>\n      <td>1998</td>\n      <td>321</td>\n      <td>14600.0</td>\n      <td>4</td>\n      <td>1</td>\n    </tr>\n    <tr>\n      <th>2</th>\n      <td>1998</td>\n      <td>321</td>\n      <td>15000.0</td>\n      <td>5</td>\n      <td>1</td>\n    </tr>\n    <tr>\n      <th>3</th>\n      <td>1998</td>\n      <td>324</td>\n      <td>6500.0</td>\n      <td>4</td>\n      <td>1</td>\n    </tr>\n    <tr>\n      <th>4</th>\n      <td>1998</td>\n      <td>321</td>\n      <td>36600.0</td>\n      <td>13</td>\n      <td>2</td>\n    </tr>\n  </tbody>\n</table>\n</div>"
     },
     "metadata": {},
     "execution_count": 8
    }
   ],
   "source": [
    "esport.head()"
   ]
  },
  {
   "cell_type": "code",
   "execution_count": 9,
   "metadata": {},
   "outputs": [
    {
     "output_type": "stream",
     "name": "stdout",
     "text": [
      "<class 'pandas.core.frame.DataFrame'>\nRangeIndex: 6215 entries, 0 to 6214\nData columns (total 5 columns):\n #   Column       Non-Null Count  Dtype  \n---  ------       --------------  -----  \n 0   Year         6215 non-null   object \n 1   Game         6215 non-null   int32  \n 2   Earnings     6215 non-null   float64\n 3   Players      6215 non-null   int64  \n 4   Tournaments  6215 non-null   int64  \ndtypes: float64(1), int32(1), int64(2), object(1)\nmemory usage: 194.3+ KB\n"
     ]
    }
   ],
   "source": [
    "esport.info()"
   ]
  },
  {
   "cell_type": "code",
   "execution_count": 10,
   "metadata": {},
   "outputs": [],
   "source": [
    "X = esport[['Year','Game','Players','Tournaments']]\n",
    "Y = esport[['Earnings']]"
   ]
  },
  {
   "cell_type": "code",
   "execution_count": 11,
   "metadata": {},
   "outputs": [
    {
     "output_type": "execute_result",
     "data": {
      "text/plain": [
       "   Year  Game  Players  Tournaments\n",
       "0  1998   324        8            1\n",
       "1  1998   321        4            1\n",
       "2  1998   321        5            1\n",
       "3  1998   324        4            1\n",
       "4  1998   321       13            2"
      ],
      "text/html": "<div>\n<style scoped>\n    .dataframe tbody tr th:only-of-type {\n        vertical-align: middle;\n    }\n\n    .dataframe tbody tr th {\n        vertical-align: top;\n    }\n\n    .dataframe thead th {\n        text-align: right;\n    }\n</style>\n<table border=\"1\" class=\"dataframe\">\n  <thead>\n    <tr style=\"text-align: right;\">\n      <th></th>\n      <th>Year</th>\n      <th>Game</th>\n      <th>Players</th>\n      <th>Tournaments</th>\n    </tr>\n  </thead>\n  <tbody>\n    <tr>\n      <th>0</th>\n      <td>1998</td>\n      <td>324</td>\n      <td>8</td>\n      <td>1</td>\n    </tr>\n    <tr>\n      <th>1</th>\n      <td>1998</td>\n      <td>321</td>\n      <td>4</td>\n      <td>1</td>\n    </tr>\n    <tr>\n      <th>2</th>\n      <td>1998</td>\n      <td>321</td>\n      <td>5</td>\n      <td>1</td>\n    </tr>\n    <tr>\n      <th>3</th>\n      <td>1998</td>\n      <td>324</td>\n      <td>4</td>\n      <td>1</td>\n    </tr>\n    <tr>\n      <th>4</th>\n      <td>1998</td>\n      <td>321</td>\n      <td>13</td>\n      <td>2</td>\n    </tr>\n  </tbody>\n</table>\n</div>"
     },
     "metadata": {},
     "execution_count": 11
    }
   ],
   "source": [
    "X.head()"
   ]
  },
  {
   "cell_type": "code",
   "execution_count": 12,
   "metadata": {},
   "outputs": [
    {
     "output_type": "execute_result",
     "data": {
      "text/plain": [
       "   Earnings\n",
       "0   15000.0\n",
       "1   14600.0\n",
       "2   15000.0\n",
       "3    6500.0\n",
       "4   36600.0"
      ],
      "text/html": "<div>\n<style scoped>\n    .dataframe tbody tr th:only-of-type {\n        vertical-align: middle;\n    }\n\n    .dataframe tbody tr th {\n        vertical-align: top;\n    }\n\n    .dataframe thead th {\n        text-align: right;\n    }\n</style>\n<table border=\"1\" class=\"dataframe\">\n  <thead>\n    <tr style=\"text-align: right;\">\n      <th></th>\n      <th>Earnings</th>\n    </tr>\n  </thead>\n  <tbody>\n    <tr>\n      <th>0</th>\n      <td>15000.0</td>\n    </tr>\n    <tr>\n      <th>1</th>\n      <td>14600.0</td>\n    </tr>\n    <tr>\n      <th>2</th>\n      <td>15000.0</td>\n    </tr>\n    <tr>\n      <th>3</th>\n      <td>6500.0</td>\n    </tr>\n    <tr>\n      <th>4</th>\n      <td>36600.0</td>\n    </tr>\n  </tbody>\n</table>\n</div>"
     },
     "metadata": {},
     "execution_count": 12
    }
   ],
   "source": [
    "Y.head()"
   ]
  },
  {
   "cell_type": "code",
   "execution_count": 13,
   "metadata": {},
   "outputs": [],
   "source": [
    "from sklearn.model_selection import train_test_split"
   ]
  },
  {
   "cell_type": "code",
   "execution_count": 14,
   "metadata": {},
   "outputs": [
    {
     "output_type": "execute_result",
     "data": {
      "text/plain": [
       "4972"
      ]
     },
     "metadata": {},
     "execution_count": 14
    }
   ],
   "source": [
    "X_train, X_test, Y_train, Y_test = train_test_split(X,Y,test_size=0.2)\n",
    "len(X_train)"
   ]
  },
  {
   "cell_type": "code",
   "execution_count": 15,
   "metadata": {},
   "outputs": [],
   "source": [
    "from sklearn.linear_model import LinearRegression\n",
    "clf = LinearRegression()"
   ]
  },
  {
   "cell_type": "code",
   "execution_count": 16,
   "metadata": {},
   "outputs": [
    {
     "output_type": "execute_result",
     "data": {
      "text/plain": [
       "LinearRegression()"
      ]
     },
     "metadata": {},
     "execution_count": 16
    }
   ],
   "source": [
    "clf.fit(X_train,Y_train)"
   ]
  },
  {
   "cell_type": "code",
   "execution_count": 17,
   "metadata": {},
   "outputs": [
    {
     "output_type": "execute_result",
     "data": {
      "text/plain": [
       "array([[167715.79399752],\n",
       "       [ 94800.08379072],\n",
       "       [ 79825.28188494],\n",
       "       [ 80403.14441998],\n",
       "       [ -2947.55530068]])"
      ]
     },
     "metadata": {},
     "execution_count": 17
    }
   ],
   "source": [
    "clf.predict(X_test.head())"
   ]
  },
  {
   "cell_type": "code",
   "execution_count": 18,
   "metadata": {},
   "outputs": [
    {
     "output_type": "execute_result",
     "data": {
      "text/plain": [
       "      Earnings\n",
       "5344  35522.28\n",
       "3763    427.69\n",
       "855   22658.13\n",
       "1464  12000.00\n",
       "1369   1210.00"
      ],
      "text/html": "<div>\n<style scoped>\n    .dataframe tbody tr th:only-of-type {\n        vertical-align: middle;\n    }\n\n    .dataframe tbody tr th {\n        vertical-align: top;\n    }\n\n    .dataframe thead th {\n        text-align: right;\n    }\n</style>\n<table border=\"1\" class=\"dataframe\">\n  <thead>\n    <tr style=\"text-align: right;\">\n      <th></th>\n      <th>Earnings</th>\n    </tr>\n  </thead>\n  <tbody>\n    <tr>\n      <th>5344</th>\n      <td>35522.28</td>\n    </tr>\n    <tr>\n      <th>3763</th>\n      <td>427.69</td>\n    </tr>\n    <tr>\n      <th>855</th>\n      <td>22658.13</td>\n    </tr>\n    <tr>\n      <th>1464</th>\n      <td>12000.00</td>\n    </tr>\n    <tr>\n      <th>1369</th>\n      <td>1210.00</td>\n    </tr>\n  </tbody>\n</table>\n</div>"
     },
     "metadata": {},
     "execution_count": 18
    }
   ],
   "source": [
    "Y_test.head()"
   ]
  },
  {
   "cell_type": "code",
   "execution_count": 19,
   "metadata": {},
   "outputs": [
    {
     "output_type": "execute_result",
     "data": {
      "text/plain": [
       "0.10498419380659074"
      ]
     },
     "metadata": {},
     "execution_count": 19
    }
   ],
   "source": [
    "clf.score(X_test,Y_test)"
   ]
  }
 ]
}