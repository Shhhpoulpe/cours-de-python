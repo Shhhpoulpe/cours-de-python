{
 "metadata": {
  "language_info": {
   "codemirror_mode": {
    "name": "ipython",
    "version": 3
   },
   "file_extension": ".py",
   "mimetype": "text/x-python",
   "name": "python",
   "nbconvert_exporter": "python",
   "pygments_lexer": "ipython3",
   "version": "3.8.5-final"
  },
  "orig_nbformat": 2,
  "kernelspec": {
   "name": "python_defaultSpec_1600870316141",
   "display_name": "Python 3.8.5 32-bit"
  }
 },
 "nbformat": 4,
 "nbformat_minor": 2,
 "cells": [
  {
   "cell_type": "code",
   "execution_count": 4,
   "metadata": {},
   "outputs": [],
   "source": [
    "import pandas as pd\n",
    "chemin = \"https://bit.ly/felonies-dataset\"\n",
    "df = pd.read_csv(chemin)"
   ]
  },
  {
   "cell_type": "code",
   "execution_count": 5,
   "metadata": {},
   "outputs": [
    {
     "output_type": "execute_result",
     "data": {
      "text/plain": "        Date of Arrest  Age Convicted\n0  2014-07-16 14:59:18   77       Yes\n1  2002-12-19 22:17:59   28       Yes\n2  1994-06-28 09:31:40   21        No\n3  1985-05-14 09:52:17   45       Yes\n4  1985-05-25 14:06:28   39       Yes",
      "text/html": "<div>\n<style scoped>\n    .dataframe tbody tr th:only-of-type {\n        vertical-align: middle;\n    }\n\n    .dataframe tbody tr th {\n        vertical-align: top;\n    }\n\n    .dataframe thead th {\n        text-align: right;\n    }\n</style>\n<table border=\"1\" class=\"dataframe\">\n  <thead>\n    <tr style=\"text-align: right;\">\n      <th></th>\n      <th>Date of Arrest</th>\n      <th>Age</th>\n      <th>Convicted</th>\n    </tr>\n  </thead>\n  <tbody>\n    <tr>\n      <th>0</th>\n      <td>2014-07-16 14:59:18</td>\n      <td>77</td>\n      <td>Yes</td>\n    </tr>\n    <tr>\n      <th>1</th>\n      <td>2002-12-19 22:17:59</td>\n      <td>28</td>\n      <td>Yes</td>\n    </tr>\n    <tr>\n      <th>2</th>\n      <td>1994-06-28 09:31:40</td>\n      <td>21</td>\n      <td>No</td>\n    </tr>\n    <tr>\n      <th>3</th>\n      <td>1985-05-14 09:52:17</td>\n      <td>45</td>\n      <td>Yes</td>\n    </tr>\n    <tr>\n      <th>4</th>\n      <td>1985-05-25 14:06:28</td>\n      <td>39</td>\n      <td>Yes</td>\n    </tr>\n  </tbody>\n</table>\n</div>"
     },
     "metadata": {},
     "execution_count": 5
    }
   ],
   "source": [
    "df.head()"
   ]
  },
  {
   "cell_type": "code",
   "execution_count": 6,
   "metadata": {},
   "outputs": [
    {
     "output_type": "execute_result",
     "data": {
      "text/plain": "0    Senior\n1    Adulte\n2    Adulte\n3    Adulte\n4    Adulte\nName: Age, dtype: category\nCategories (4, object): ['Child' < 'Ado' < 'Adulte' < 'Senior']"
     },
     "metadata": {},
     "execution_count": 6
    }
   ],
   "source": [
    "o = pd.cut(df['Age'],\n",
    "           bins=[10,14,20,65,100],\n",
    "           labels=['Child','Ado','Adulte','Senior'])\n",
    "o.head()"
   ]
  },
  {
   "cell_type": "code",
   "execution_count": 7,
   "metadata": {},
   "outputs": [],
   "source": [
    "exo1 = pd.Series(data=[0,1,2,3])"
   ]
  },
  {
   "cell_type": "code",
   "execution_count": 8,
   "metadata": {},
   "outputs": [
    {
     "output_type": "execute_result",
     "data": {
      "text/plain": "0    A\n1    A\n2    A\n3    B\ndtype: category\nCategories (2, object): ['A' < 'B']"
     },
     "metadata": {},
     "execution_count": 8
    }
   ],
   "source": [
    "FROM_ZERO = -0.00001\n",
    "pd.cut(exo1,\n",
    "       bins=[FROM_ZERO,2,3],\n",
    "       labels=['A','B'])"
   ]
  },
  {
   "cell_type": "code",
   "execution_count": 12,
   "metadata": {},
   "outputs": [
    {
     "output_type": "execute_result",
     "data": {
      "text/plain": "['tenties',\n 'twenties',\n 'thirties',\n 'fourties',\n 'fifties',\n 'sixties',\n 'seventies',\n 'eighties',\n 'nineties']"
     },
     "metadata": {},
     "execution_count": 12
    }
   ],
   "source": [
    "prefix = ['ten','twen','thir','four','fif','six','seven','eigh','nine']\n",
    "labels = [p+'ties' for p in prefix]\n",
    "labels"
   ]
  },
  {
   "cell_type": "code",
   "execution_count": 16,
   "metadata": {},
   "outputs": [],
   "source": [
    "df['decade'] = pd.cut(df['Age'],\n",
    "           bins=[10,20,30,40,50,60,70,80,90,100],\n",
    "           labels=labels)"
   ]
  },
  {
   "cell_type": "code",
   "execution_count": 17,
   "metadata": {},
   "outputs": [
    {
     "output_type": "execute_result",
     "data": {
      "text/plain": "        Date of Arrest  Age Convicted     decade\n0  2014-07-16 14:59:18   77       Yes  seventies\n1  2002-12-19 22:17:59   28       Yes   twenties\n2  1994-06-28 09:31:40   21        No   twenties\n3  1985-05-14 09:52:17   45       Yes   fourties\n4  1985-05-25 14:06:28   39       Yes   thirties",
      "text/html": "<div>\n<style scoped>\n    .dataframe tbody tr th:only-of-type {\n        vertical-align: middle;\n    }\n\n    .dataframe tbody tr th {\n        vertical-align: top;\n    }\n\n    .dataframe thead th {\n        text-align: right;\n    }\n</style>\n<table border=\"1\" class=\"dataframe\">\n  <thead>\n    <tr style=\"text-align: right;\">\n      <th></th>\n      <th>Date of Arrest</th>\n      <th>Age</th>\n      <th>Convicted</th>\n      <th>decade</th>\n    </tr>\n  </thead>\n  <tbody>\n    <tr>\n      <th>0</th>\n      <td>2014-07-16 14:59:18</td>\n      <td>77</td>\n      <td>Yes</td>\n      <td>seventies</td>\n    </tr>\n    <tr>\n      <th>1</th>\n      <td>2002-12-19 22:17:59</td>\n      <td>28</td>\n      <td>Yes</td>\n      <td>twenties</td>\n    </tr>\n    <tr>\n      <th>2</th>\n      <td>1994-06-28 09:31:40</td>\n      <td>21</td>\n      <td>No</td>\n      <td>twenties</td>\n    </tr>\n    <tr>\n      <th>3</th>\n      <td>1985-05-14 09:52:17</td>\n      <td>45</td>\n      <td>Yes</td>\n      <td>fourties</td>\n    </tr>\n    <tr>\n      <th>4</th>\n      <td>1985-05-25 14:06:28</td>\n      <td>39</td>\n      <td>Yes</td>\n      <td>thirties</td>\n    </tr>\n  </tbody>\n</table>\n</div>"
     },
     "metadata": {},
     "execution_count": 17
    }
   ],
   "source": [
    "df.head()"
   ]
  }
 ]
}