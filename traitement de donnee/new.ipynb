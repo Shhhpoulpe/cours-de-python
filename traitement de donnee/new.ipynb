{
 "metadata": {
  "language_info": {
   "codemirror_mode": {
    "name": "ipython",
    "version": 3
   },
   "file_extension": ".py",
   "mimetype": "text/x-python",
   "name": "python",
   "nbconvert_exporter": "python",
   "pygments_lexer": "ipython3",
   "version": "3.8.5-final"
  },
  "orig_nbformat": 2,
  "kernelspec": {
   "name": "python_defaultSpec_1600951929550",
   "display_name": "Python 3.8.5 32-bit"
  }
 },
 "nbformat": 4,
 "nbformat_minor": 2,
 "cells": [
  {
   "cell_type": "code",
   "execution_count": 14,
   "metadata": {},
   "outputs": [],
   "source": [
    "import pandas as pd \n",
    "fp = \"https://bit.ly/missing-values\"\n",
    "data = pd.read_csv(fp)"
   ]
  },
  {
   "cell_type": "code",
   "execution_count": 15,
   "metadata": {},
   "outputs": [
    {
     "output_type": "execute_result",
     "data": {
      "text/plain": "      color  rating\n0       NaN    1.16\n1       Red     NaN\n2      Blue    2.54\n3       Red    1.51\n4       Red     NaN\n..      ...     ...\n912    Blue    3.40\n913     Red     NaN\n914     NaN    1.24\n915  Yellow    2.64\n916    Blue     NaN\n\n[917 rows x 2 columns]",
      "text/html": "<div>\n<style scoped>\n    .dataframe tbody tr th:only-of-type {\n        vertical-align: middle;\n    }\n\n    .dataframe tbody tr th {\n        vertical-align: top;\n    }\n\n    .dataframe thead th {\n        text-align: right;\n    }\n</style>\n<table border=\"1\" class=\"dataframe\">\n  <thead>\n    <tr style=\"text-align: right;\">\n      <th></th>\n      <th>color</th>\n      <th>rating</th>\n    </tr>\n  </thead>\n  <tbody>\n    <tr>\n      <th>0</th>\n      <td>NaN</td>\n      <td>1.16</td>\n    </tr>\n    <tr>\n      <th>1</th>\n      <td>Red</td>\n      <td>NaN</td>\n    </tr>\n    <tr>\n      <th>2</th>\n      <td>Blue</td>\n      <td>2.54</td>\n    </tr>\n    <tr>\n      <th>3</th>\n      <td>Red</td>\n      <td>1.51</td>\n    </tr>\n    <tr>\n      <th>4</th>\n      <td>Red</td>\n      <td>NaN</td>\n    </tr>\n    <tr>\n      <th>...</th>\n      <td>...</td>\n      <td>...</td>\n    </tr>\n    <tr>\n      <th>912</th>\n      <td>Blue</td>\n      <td>3.40</td>\n    </tr>\n    <tr>\n      <th>913</th>\n      <td>Red</td>\n      <td>NaN</td>\n    </tr>\n    <tr>\n      <th>914</th>\n      <td>NaN</td>\n      <td>1.24</td>\n    </tr>\n    <tr>\n      <th>915</th>\n      <td>Yellow</td>\n      <td>2.64</td>\n    </tr>\n    <tr>\n      <th>916</th>\n      <td>Blue</td>\n      <td>NaN</td>\n    </tr>\n  </tbody>\n</table>\n<p>917 rows × 2 columns</p>\n</div>"
     },
     "metadata": {},
     "execution_count": 15
    }
   ],
   "source": [
    "data"
   ]
  },
  {
   "cell_type": "code",
   "execution_count": 16,
   "metadata": {},
   "outputs": [
    {
     "output_type": "execute_result",
     "data": {
      "text/plain": "color     0.140676\nrating    0.279171\ndtype: float64"
     },
     "metadata": {},
     "execution_count": 16
    }
   ],
   "source": [
    "data.isna().mean()"
   ]
  },
  {
   "cell_type": "code",
   "execution_count": 17,
   "metadata": {},
   "outputs": [],
   "source": [
    "for nom_colonne in ['color', 'rating']:\n",
    "    index_colonne = data.columns.get_loc(nom_colonne)\n",
    "    data.insert(index_colonne+1,\n",
    "                nom_colonne+'_nan',\n",
    "                data[nom_colonne].isna().astype('int8'))"
   ]
  },
  {
   "cell_type": "code",
   "execution_count": 18,
   "metadata": {},
   "outputs": [
    {
     "output_type": "execute_result",
     "data": {
      "text/plain": "      color  color_nan  rating  rating_nan\n0       NaN          1    1.16           0\n1       Red          0     NaN           1\n2      Blue          0    2.54           0\n3       Red          0    1.51           0\n4       Red          0     NaN           1\n..      ...        ...     ...         ...\n912    Blue          0    3.40           0\n913     Red          0     NaN           1\n914     NaN          1    1.24           0\n915  Yellow          0    2.64           0\n916    Blue          0     NaN           1\n\n[917 rows x 4 columns]",
      "text/html": "<div>\n<style scoped>\n    .dataframe tbody tr th:only-of-type {\n        vertical-align: middle;\n    }\n\n    .dataframe tbody tr th {\n        vertical-align: top;\n    }\n\n    .dataframe thead th {\n        text-align: right;\n    }\n</style>\n<table border=\"1\" class=\"dataframe\">\n  <thead>\n    <tr style=\"text-align: right;\">\n      <th></th>\n      <th>color</th>\n      <th>color_nan</th>\n      <th>rating</th>\n      <th>rating_nan</th>\n    </tr>\n  </thead>\n  <tbody>\n    <tr>\n      <th>0</th>\n      <td>NaN</td>\n      <td>1</td>\n      <td>1.16</td>\n      <td>0</td>\n    </tr>\n    <tr>\n      <th>1</th>\n      <td>Red</td>\n      <td>0</td>\n      <td>NaN</td>\n      <td>1</td>\n    </tr>\n    <tr>\n      <th>2</th>\n      <td>Blue</td>\n      <td>0</td>\n      <td>2.54</td>\n      <td>0</td>\n    </tr>\n    <tr>\n      <th>3</th>\n      <td>Red</td>\n      <td>0</td>\n      <td>1.51</td>\n      <td>0</td>\n    </tr>\n    <tr>\n      <th>4</th>\n      <td>Red</td>\n      <td>0</td>\n      <td>NaN</td>\n      <td>1</td>\n    </tr>\n    <tr>\n      <th>...</th>\n      <td>...</td>\n      <td>...</td>\n      <td>...</td>\n      <td>...</td>\n    </tr>\n    <tr>\n      <th>912</th>\n      <td>Blue</td>\n      <td>0</td>\n      <td>3.40</td>\n      <td>0</td>\n    </tr>\n    <tr>\n      <th>913</th>\n      <td>Red</td>\n      <td>0</td>\n      <td>NaN</td>\n      <td>1</td>\n    </tr>\n    <tr>\n      <th>914</th>\n      <td>NaN</td>\n      <td>1</td>\n      <td>1.24</td>\n      <td>0</td>\n    </tr>\n    <tr>\n      <th>915</th>\n      <td>Yellow</td>\n      <td>0</td>\n      <td>2.64</td>\n      <td>0</td>\n    </tr>\n    <tr>\n      <th>916</th>\n      <td>Blue</td>\n      <td>0</td>\n      <td>NaN</td>\n      <td>1</td>\n    </tr>\n  </tbody>\n</table>\n<p>917 rows × 4 columns</p>\n</div>"
     },
     "metadata": {},
     "execution_count": 18
    }
   ],
   "source": [
    "data"
   ]
  },
  {
   "cell_type": "code",
   "execution_count": 19,
   "metadata": {},
   "outputs": [],
   "source": [
    "# data = data.dropna(how='any',\n",
    "#             subset=['color','rating'])"
   ]
  },
  {
   "cell_type": "code",
   "execution_count": 20,
   "metadata": {},
   "outputs": [
    {
     "output_type": "execute_result",
     "data": {
      "text/plain": "      color  color_nan  rating  rating_nan\n0       NaN          1    1.16           0\n1       Red          0     NaN           1\n2      Blue          0    2.54           0\n3       Red          0    1.51           0\n4       Red          0     NaN           1\n..      ...        ...     ...         ...\n912    Blue          0    3.40           0\n913     Red          0     NaN           1\n914     NaN          1    1.24           0\n915  Yellow          0    2.64           0\n916    Blue          0     NaN           1\n\n[917 rows x 4 columns]",
      "text/html": "<div>\n<style scoped>\n    .dataframe tbody tr th:only-of-type {\n        vertical-align: middle;\n    }\n\n    .dataframe tbody tr th {\n        vertical-align: top;\n    }\n\n    .dataframe thead th {\n        text-align: right;\n    }\n</style>\n<table border=\"1\" class=\"dataframe\">\n  <thead>\n    <tr style=\"text-align: right;\">\n      <th></th>\n      <th>color</th>\n      <th>color_nan</th>\n      <th>rating</th>\n      <th>rating_nan</th>\n    </tr>\n  </thead>\n  <tbody>\n    <tr>\n      <th>0</th>\n      <td>NaN</td>\n      <td>1</td>\n      <td>1.16</td>\n      <td>0</td>\n    </tr>\n    <tr>\n      <th>1</th>\n      <td>Red</td>\n      <td>0</td>\n      <td>NaN</td>\n      <td>1</td>\n    </tr>\n    <tr>\n      <th>2</th>\n      <td>Blue</td>\n      <td>0</td>\n      <td>2.54</td>\n      <td>0</td>\n    </tr>\n    <tr>\n      <th>3</th>\n      <td>Red</td>\n      <td>0</td>\n      <td>1.51</td>\n      <td>0</td>\n    </tr>\n    <tr>\n      <th>4</th>\n      <td>Red</td>\n      <td>0</td>\n      <td>NaN</td>\n      <td>1</td>\n    </tr>\n    <tr>\n      <th>...</th>\n      <td>...</td>\n      <td>...</td>\n      <td>...</td>\n      <td>...</td>\n    </tr>\n    <tr>\n      <th>912</th>\n      <td>Blue</td>\n      <td>0</td>\n      <td>3.40</td>\n      <td>0</td>\n    </tr>\n    <tr>\n      <th>913</th>\n      <td>Red</td>\n      <td>0</td>\n      <td>NaN</td>\n      <td>1</td>\n    </tr>\n    <tr>\n      <th>914</th>\n      <td>NaN</td>\n      <td>1</td>\n      <td>1.24</td>\n      <td>0</td>\n    </tr>\n    <tr>\n      <th>915</th>\n      <td>Yellow</td>\n      <td>0</td>\n      <td>2.64</td>\n      <td>0</td>\n    </tr>\n    <tr>\n      <th>916</th>\n      <td>Blue</td>\n      <td>0</td>\n      <td>NaN</td>\n      <td>1</td>\n    </tr>\n  </tbody>\n</table>\n<p>917 rows × 4 columns</p>\n</div>"
     },
     "metadata": {},
     "execution_count": 20
    }
   ],
   "source": [
    "data"
   ]
  },
  {
   "cell_type": "code",
   "execution_count": 21,
   "metadata": {},
   "outputs": [
    {
     "output_type": "execute_result",
     "data": {
      "text/plain": "1.0"
     },
     "metadata": {},
     "execution_count": 21
    }
   ],
   "source": [
    "data.rating.min()"
   ]
  },
  {
   "cell_type": "code",
   "execution_count": 22,
   "metadata": {},
   "outputs": [
    {
     "output_type": "execute_result",
     "data": {
      "text/plain": "5.0"
     },
     "metadata": {},
     "execution_count": 22
    }
   ],
   "source": [
    "data.rating.max()"
   ]
  },
  {
   "cell_type": "code",
   "execution_count": 23,
   "metadata": {},
   "outputs": [
    {
     "output_type": "execute_result",
     "data": {
      "text/plain": "0      1.16\n1      0.00\n2      2.54\n3      1.51\n4      0.00\n       ... \n912    3.40\n913    0.00\n914    1.24\n915    2.64\n916    0.00\nName: rating, Length: 917, dtype: float64"
     },
     "metadata": {},
     "execution_count": 23
    }
   ],
   "source": [
    "data.rating.fillna(0)"
   ]
  },
  {
   "cell_type": "code",
   "execution_count": 24,
   "metadata": {},
   "outputs": [
    {
     "output_type": "execute_result",
     "data": {
      "text/plain": "      color  color_nan  rating  rating_nan\n0       NaN          1    1.16           0\n1       Red          0     NaN           1\n2      Blue          0    2.54           0\n3       Red          0    1.51           0\n4       Red          0     NaN           1\n..      ...        ...     ...         ...\n912    Blue          0    3.40           0\n913     Red          0     NaN           1\n914     NaN          1    1.24           0\n915  Yellow          0    2.64           0\n916    Blue          0     NaN           1\n\n[917 rows x 4 columns]",
      "text/html": "<div>\n<style scoped>\n    .dataframe tbody tr th:only-of-type {\n        vertical-align: middle;\n    }\n\n    .dataframe tbody tr th {\n        vertical-align: top;\n    }\n\n    .dataframe thead th {\n        text-align: right;\n    }\n</style>\n<table border=\"1\" class=\"dataframe\">\n  <thead>\n    <tr style=\"text-align: right;\">\n      <th></th>\n      <th>color</th>\n      <th>color_nan</th>\n      <th>rating</th>\n      <th>rating_nan</th>\n    </tr>\n  </thead>\n  <tbody>\n    <tr>\n      <th>0</th>\n      <td>NaN</td>\n      <td>1</td>\n      <td>1.16</td>\n      <td>0</td>\n    </tr>\n    <tr>\n      <th>1</th>\n      <td>Red</td>\n      <td>0</td>\n      <td>NaN</td>\n      <td>1</td>\n    </tr>\n    <tr>\n      <th>2</th>\n      <td>Blue</td>\n      <td>0</td>\n      <td>2.54</td>\n      <td>0</td>\n    </tr>\n    <tr>\n      <th>3</th>\n      <td>Red</td>\n      <td>0</td>\n      <td>1.51</td>\n      <td>0</td>\n    </tr>\n    <tr>\n      <th>4</th>\n      <td>Red</td>\n      <td>0</td>\n      <td>NaN</td>\n      <td>1</td>\n    </tr>\n    <tr>\n      <th>...</th>\n      <td>...</td>\n      <td>...</td>\n      <td>...</td>\n      <td>...</td>\n    </tr>\n    <tr>\n      <th>912</th>\n      <td>Blue</td>\n      <td>0</td>\n      <td>3.40</td>\n      <td>0</td>\n    </tr>\n    <tr>\n      <th>913</th>\n      <td>Red</td>\n      <td>0</td>\n      <td>NaN</td>\n      <td>1</td>\n    </tr>\n    <tr>\n      <th>914</th>\n      <td>NaN</td>\n      <td>1</td>\n      <td>1.24</td>\n      <td>0</td>\n    </tr>\n    <tr>\n      <th>915</th>\n      <td>Yellow</td>\n      <td>0</td>\n      <td>2.64</td>\n      <td>0</td>\n    </tr>\n    <tr>\n      <th>916</th>\n      <td>Blue</td>\n      <td>0</td>\n      <td>NaN</td>\n      <td>1</td>\n    </tr>\n  </tbody>\n</table>\n<p>917 rows × 4 columns</p>\n</div>"
     },
     "metadata": {},
     "execution_count": 24
    }
   ],
   "source": [
    "data"
   ]
  }
 ]
}