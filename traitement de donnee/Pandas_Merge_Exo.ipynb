{
 "cells": [
  {
   "cell_type": "markdown",
   "metadata": {},
   "source": [
    "# Merging Data avec Pandas \n",
    "\n",
    "Dans la science de données on a souvent besoin de fusionner des tableaux. On peut le faire avec la fonction `merge()` qui prend comme paramètres deux `DataFrames` ainsi que les colonnes avec lesquelles réaliser les jointures. Cette méthode est très similaire à SQL sur le principe 🔭\n"
   ]
  },
  {
   "cell_type": "markdown",
   "metadata": {},
   "source": [
    "### Importer pandas et les dataset `user_device.csv`, `user_usage.csv` et `android_devices.csv`"
   ]
  },
  {
   "cell_type": "code",
   "execution_count": 2,
   "metadata": {},
   "outputs": [],
   "source": [
    "import pandas as pd\n",
    "android_devices = pd.read_csv(\"csv/android_devices.csv\")\n",
    "user_device = pd.read_csv(\"csv/user_device.csv\")\n",
    "user_usage = pd.read_csv(\"csv/user_usage.csv\")"
   ]
  },
  {
   "cell_type": "markdown",
   "metadata": {},
   "source": [
    "### Importer les dataset & renommer la colonne `Branding` du dataset `android_devices.csv`"
   ]
  },
  {
   "cell_type": "code",
   "execution_count": 14,
   "metadata": {},
   "outputs": [
    {
     "output_type": "execute_result",
     "data": {
      "text/plain": "             test Marketing Name       Device                      Model\n0             NaN            NaN       AD681H  Smartfren Andromax AD681H\n1             NaN            NaN        FJL21                      FJL21\n2             NaN            NaN          T31              Panasonic T31\n3             NaN            NaN     hws7721g         MediaPad 7 Youth 2\n4              3Q        OC1020A      OC1020A                    OC1020A\n...           ...            ...          ...                        ...\n14541       pendo    PNDPP44QC10  PNDPP44QC10                PNDPP44QC10\n14542       pendo     PNDPP44QC7   PNDPP44QC7                 PNDPP44QC7\n14543  sugar_aums         QPOINT        QPI-1                      QPI-1\n14544   tecmobile       OmnisOne     OmnisOne                  Omnis One\n14545       ucall          EASY1        EASY1                      EASY1\n\n[14546 rows x 4 columns]",
      "text/html": "<div>\n<style scoped>\n    .dataframe tbody tr th:only-of-type {\n        vertical-align: middle;\n    }\n\n    .dataframe tbody tr th {\n        vertical-align: top;\n    }\n\n    .dataframe thead th {\n        text-align: right;\n    }\n</style>\n<table border=\"1\" class=\"dataframe\">\n  <thead>\n    <tr style=\"text-align: right;\">\n      <th></th>\n      <th>test</th>\n      <th>Marketing Name</th>\n      <th>Device</th>\n      <th>Model</th>\n    </tr>\n  </thead>\n  <tbody>\n    <tr>\n      <th>0</th>\n      <td>NaN</td>\n      <td>NaN</td>\n      <td>AD681H</td>\n      <td>Smartfren Andromax AD681H</td>\n    </tr>\n    <tr>\n      <th>1</th>\n      <td>NaN</td>\n      <td>NaN</td>\n      <td>FJL21</td>\n      <td>FJL21</td>\n    </tr>\n    <tr>\n      <th>2</th>\n      <td>NaN</td>\n      <td>NaN</td>\n      <td>T31</td>\n      <td>Panasonic T31</td>\n    </tr>\n    <tr>\n      <th>3</th>\n      <td>NaN</td>\n      <td>NaN</td>\n      <td>hws7721g</td>\n      <td>MediaPad 7 Youth 2</td>\n    </tr>\n    <tr>\n      <th>4</th>\n      <td>3Q</td>\n      <td>OC1020A</td>\n      <td>OC1020A</td>\n      <td>OC1020A</td>\n    </tr>\n    <tr>\n      <th>...</th>\n      <td>...</td>\n      <td>...</td>\n      <td>...</td>\n      <td>...</td>\n    </tr>\n    <tr>\n      <th>14541</th>\n      <td>pendo</td>\n      <td>PNDPP44QC10</td>\n      <td>PNDPP44QC10</td>\n      <td>PNDPP44QC10</td>\n    </tr>\n    <tr>\n      <th>14542</th>\n      <td>pendo</td>\n      <td>PNDPP44QC7</td>\n      <td>PNDPP44QC7</td>\n      <td>PNDPP44QC7</td>\n    </tr>\n    <tr>\n      <th>14543</th>\n      <td>sugar_aums</td>\n      <td>QPOINT</td>\n      <td>QPI-1</td>\n      <td>QPI-1</td>\n    </tr>\n    <tr>\n      <th>14544</th>\n      <td>tecmobile</td>\n      <td>OmnisOne</td>\n      <td>OmnisOne</td>\n      <td>Omnis One</td>\n    </tr>\n    <tr>\n      <th>14545</th>\n      <td>ucall</td>\n      <td>EASY1</td>\n      <td>EASY1</td>\n      <td>EASY1</td>\n    </tr>\n  </tbody>\n</table>\n<p>14546 rows × 4 columns</p>\n</div>"
     },
     "metadata": {},
     "execution_count": 14
    }
   ],
   "source": [
    "android_devices.rename(columns={'Retail Branding': 'test'}, inplace=True)\n",
    "android_devices"
   ]
  },
  {
   "cell_type": "markdown",
   "metadata": {},
   "source": [
    "### Afficher les dataset "
   ]
  },
  {
   "cell_type": "code",
   "execution_count": 15,
   "metadata": {
    "scrolled": true
   },
   "outputs": [
    {
     "output_type": "execute_result",
     "data": {
      "text/plain": "     outgoing_mins_per_month  outgoing_sms_per_month  monthly_mb  use_id\n0                      21.97                    4.82     1557.33   22787\n1                    1710.08                  136.88     7267.55   22788\n2                    1710.08                  136.88     7267.55   22789\n3                      94.46                   35.17      519.12   22790\n4                      71.59                   79.26     1557.33   22792\n..                       ...                     ...         ...     ...\n235                   260.66                   68.44      896.96   25008\n236                    97.12                   36.50     2815.00   25040\n237                   355.93                   12.37     6828.09   25046\n238                   632.06                  120.46     1453.16   25058\n239                   488.70                  906.92     3089.85   25220\n\n[240 rows x 4 columns]",
      "text/html": "<div>\n<style scoped>\n    .dataframe tbody tr th:only-of-type {\n        vertical-align: middle;\n    }\n\n    .dataframe tbody tr th {\n        vertical-align: top;\n    }\n\n    .dataframe thead th {\n        text-align: right;\n    }\n</style>\n<table border=\"1\" class=\"dataframe\">\n  <thead>\n    <tr style=\"text-align: right;\">\n      <th></th>\n      <th>outgoing_mins_per_month</th>\n      <th>outgoing_sms_per_month</th>\n      <th>monthly_mb</th>\n      <th>use_id</th>\n    </tr>\n  </thead>\n  <tbody>\n    <tr>\n      <th>0</th>\n      <td>21.97</td>\n      <td>4.82</td>\n      <td>1557.33</td>\n      <td>22787</td>\n    </tr>\n    <tr>\n      <th>1</th>\n      <td>1710.08</td>\n      <td>136.88</td>\n      <td>7267.55</td>\n      <td>22788</td>\n    </tr>\n    <tr>\n      <th>2</th>\n      <td>1710.08</td>\n      <td>136.88</td>\n      <td>7267.55</td>\n      <td>22789</td>\n    </tr>\n    <tr>\n      <th>3</th>\n      <td>94.46</td>\n      <td>35.17</td>\n      <td>519.12</td>\n      <td>22790</td>\n    </tr>\n    <tr>\n      <th>4</th>\n      <td>71.59</td>\n      <td>79.26</td>\n      <td>1557.33</td>\n      <td>22792</td>\n    </tr>\n    <tr>\n      <th>...</th>\n      <td>...</td>\n      <td>...</td>\n      <td>...</td>\n      <td>...</td>\n    </tr>\n    <tr>\n      <th>235</th>\n      <td>260.66</td>\n      <td>68.44</td>\n      <td>896.96</td>\n      <td>25008</td>\n    </tr>\n    <tr>\n      <th>236</th>\n      <td>97.12</td>\n      <td>36.50</td>\n      <td>2815.00</td>\n      <td>25040</td>\n    </tr>\n    <tr>\n      <th>237</th>\n      <td>355.93</td>\n      <td>12.37</td>\n      <td>6828.09</td>\n      <td>25046</td>\n    </tr>\n    <tr>\n      <th>238</th>\n      <td>632.06</td>\n      <td>120.46</td>\n      <td>1453.16</td>\n      <td>25058</td>\n    </tr>\n    <tr>\n      <th>239</th>\n      <td>488.70</td>\n      <td>906.92</td>\n      <td>3089.85</td>\n      <td>25220</td>\n    </tr>\n  </tbody>\n</table>\n<p>240 rows × 4 columns</p>\n</div>"
     },
     "metadata": {},
     "execution_count": 15
    }
   ],
   "source": [
    "user_usage"
   ]
  },
  {
   "cell_type": "code",
   "execution_count": 17,
   "metadata": {
    "scrolled": true
   },
   "outputs": [
    {
     "output_type": "execute_result",
     "data": {
      "text/plain": "     use_id  user_id platform  platform_version                  device  \\\n0     22782    26980      ios              10.2               iPhone7,2   \n1     22783    29628  android               6.0                 Nexus 5   \n2     22784    28473  android               5.1                SM-G903F   \n3     22785    15200      ios              10.2               iPhone7,2   \n4     22786    28239  android               6.0               ONE E1003   \n..      ...      ...      ...               ...                     ...   \n267   23049    29725  android               6.0                SM-G900F   \n268   23050    29726      ios              10.2               iPhone7,2   \n269   23051    29726      ios              10.2               iPhone7,2   \n270   23052    29727      ios              10.1               iPhone8,4   \n271   23053    20257  android               5.1  Vodafone Smart ultra 6   \n\n     use_type_id  \n0              2  \n1              3  \n2              1  \n3              3  \n4              1  \n..           ...  \n267            1  \n268            3  \n269            3  \n270            3  \n271            1  \n\n[272 rows x 6 columns]",
      "text/html": "<div>\n<style scoped>\n    .dataframe tbody tr th:only-of-type {\n        vertical-align: middle;\n    }\n\n    .dataframe tbody tr th {\n        vertical-align: top;\n    }\n\n    .dataframe thead th {\n        text-align: right;\n    }\n</style>\n<table border=\"1\" class=\"dataframe\">\n  <thead>\n    <tr style=\"text-align: right;\">\n      <th></th>\n      <th>use_id</th>\n      <th>user_id</th>\n      <th>platform</th>\n      <th>platform_version</th>\n      <th>device</th>\n      <th>use_type_id</th>\n    </tr>\n  </thead>\n  <tbody>\n    <tr>\n      <th>0</th>\n      <td>22782</td>\n      <td>26980</td>\n      <td>ios</td>\n      <td>10.2</td>\n      <td>iPhone7,2</td>\n      <td>2</td>\n    </tr>\n    <tr>\n      <th>1</th>\n      <td>22783</td>\n      <td>29628</td>\n      <td>android</td>\n      <td>6.0</td>\n      <td>Nexus 5</td>\n      <td>3</td>\n    </tr>\n    <tr>\n      <th>2</th>\n      <td>22784</td>\n      <td>28473</td>\n      <td>android</td>\n      <td>5.1</td>\n      <td>SM-G903F</td>\n      <td>1</td>\n    </tr>\n    <tr>\n      <th>3</th>\n      <td>22785</td>\n      <td>15200</td>\n      <td>ios</td>\n      <td>10.2</td>\n      <td>iPhone7,2</td>\n      <td>3</td>\n    </tr>\n    <tr>\n      <th>4</th>\n      <td>22786</td>\n      <td>28239</td>\n      <td>android</td>\n      <td>6.0</td>\n      <td>ONE E1003</td>\n      <td>1</td>\n    </tr>\n    <tr>\n      <th>...</th>\n      <td>...</td>\n      <td>...</td>\n      <td>...</td>\n      <td>...</td>\n      <td>...</td>\n      <td>...</td>\n    </tr>\n    <tr>\n      <th>267</th>\n      <td>23049</td>\n      <td>29725</td>\n      <td>android</td>\n      <td>6.0</td>\n      <td>SM-G900F</td>\n      <td>1</td>\n    </tr>\n    <tr>\n      <th>268</th>\n      <td>23050</td>\n      <td>29726</td>\n      <td>ios</td>\n      <td>10.2</td>\n      <td>iPhone7,2</td>\n      <td>3</td>\n    </tr>\n    <tr>\n      <th>269</th>\n      <td>23051</td>\n      <td>29726</td>\n      <td>ios</td>\n      <td>10.2</td>\n      <td>iPhone7,2</td>\n      <td>3</td>\n    </tr>\n    <tr>\n      <th>270</th>\n      <td>23052</td>\n      <td>29727</td>\n      <td>ios</td>\n      <td>10.1</td>\n      <td>iPhone8,4</td>\n      <td>3</td>\n    </tr>\n    <tr>\n      <th>271</th>\n      <td>23053</td>\n      <td>20257</td>\n      <td>android</td>\n      <td>5.1</td>\n      <td>Vodafone Smart ultra 6</td>\n      <td>1</td>\n    </tr>\n  </tbody>\n</table>\n<p>272 rows × 6 columns</p>\n</div>"
     },
     "metadata": {},
     "execution_count": 17
    }
   ],
   "source": [
    "user_device"
   ]
  },
  {
   "cell_type": "code",
   "execution_count": 18,
   "metadata": {
    "scrolled": false
   },
   "outputs": [
    {
     "output_type": "execute_result",
     "data": {
      "text/plain": "             test Marketing Name       Device                      Model\n0             NaN            NaN       AD681H  Smartfren Andromax AD681H\n1             NaN            NaN        FJL21                      FJL21\n2             NaN            NaN          T31              Panasonic T31\n3             NaN            NaN     hws7721g         MediaPad 7 Youth 2\n4              3Q        OC1020A      OC1020A                    OC1020A\n...           ...            ...          ...                        ...\n14541       pendo    PNDPP44QC10  PNDPP44QC10                PNDPP44QC10\n14542       pendo     PNDPP44QC7   PNDPP44QC7                 PNDPP44QC7\n14543  sugar_aums         QPOINT        QPI-1                      QPI-1\n14544   tecmobile       OmnisOne     OmnisOne                  Omnis One\n14545       ucall          EASY1        EASY1                      EASY1\n\n[14546 rows x 4 columns]",
      "text/html": "<div>\n<style scoped>\n    .dataframe tbody tr th:only-of-type {\n        vertical-align: middle;\n    }\n\n    .dataframe tbody tr th {\n        vertical-align: top;\n    }\n\n    .dataframe thead th {\n        text-align: right;\n    }\n</style>\n<table border=\"1\" class=\"dataframe\">\n  <thead>\n    <tr style=\"text-align: right;\">\n      <th></th>\n      <th>test</th>\n      <th>Marketing Name</th>\n      <th>Device</th>\n      <th>Model</th>\n    </tr>\n  </thead>\n  <tbody>\n    <tr>\n      <th>0</th>\n      <td>NaN</td>\n      <td>NaN</td>\n      <td>AD681H</td>\n      <td>Smartfren Andromax AD681H</td>\n    </tr>\n    <tr>\n      <th>1</th>\n      <td>NaN</td>\n      <td>NaN</td>\n      <td>FJL21</td>\n      <td>FJL21</td>\n    </tr>\n    <tr>\n      <th>2</th>\n      <td>NaN</td>\n      <td>NaN</td>\n      <td>T31</td>\n      <td>Panasonic T31</td>\n    </tr>\n    <tr>\n      <th>3</th>\n      <td>NaN</td>\n      <td>NaN</td>\n      <td>hws7721g</td>\n      <td>MediaPad 7 Youth 2</td>\n    </tr>\n    <tr>\n      <th>4</th>\n      <td>3Q</td>\n      <td>OC1020A</td>\n      <td>OC1020A</td>\n      <td>OC1020A</td>\n    </tr>\n    <tr>\n      <th>...</th>\n      <td>...</td>\n      <td>...</td>\n      <td>...</td>\n      <td>...</td>\n    </tr>\n    <tr>\n      <th>14541</th>\n      <td>pendo</td>\n      <td>PNDPP44QC10</td>\n      <td>PNDPP44QC10</td>\n      <td>PNDPP44QC10</td>\n    </tr>\n    <tr>\n      <th>14542</th>\n      <td>pendo</td>\n      <td>PNDPP44QC7</td>\n      <td>PNDPP44QC7</td>\n      <td>PNDPP44QC7</td>\n    </tr>\n    <tr>\n      <th>14543</th>\n      <td>sugar_aums</td>\n      <td>QPOINT</td>\n      <td>QPI-1</td>\n      <td>QPI-1</td>\n    </tr>\n    <tr>\n      <th>14544</th>\n      <td>tecmobile</td>\n      <td>OmnisOne</td>\n      <td>OmnisOne</td>\n      <td>Omnis One</td>\n    </tr>\n    <tr>\n      <th>14545</th>\n      <td>ucall</td>\n      <td>EASY1</td>\n      <td>EASY1</td>\n      <td>EASY1</td>\n    </tr>\n  </tbody>\n</table>\n<p>14546 rows × 4 columns</p>\n</div>"
     },
     "metadata": {},
     "execution_count": 18
    }
   ],
   "source": [
    "android_devices"
   ]
  },
  {
   "cell_type": "markdown",
   "metadata": {},
   "source": [
    "### Votre premier merge"
   ]
  },
  {
   "cell_type": "code",
   "execution_count": 55,
   "metadata": {
    "scrolled": true
   },
   "outputs": [
    {
     "output_type": "execute_result",
     "data": {
      "text/plain": "   outgoing_mins_per_month  outgoing_sms_per_month  monthly_mb  use_id  \\\n0                    21.97                    4.82     1557.33   22787   \n1                  1710.08                  136.88     7267.55   22788   \n2                  1710.08                  136.88     7267.55   22789   \n3                    94.46                   35.17      519.12   22790   \n4                    71.59                   79.26     1557.33   22792   \n\n  platform    device  \n0  android  GT-I9505  \n1  android  SM-G930F  \n2  android  SM-G930F  \n3  android     D2303  \n4  android  SM-G361F  ",
      "text/html": "<div>\n<style scoped>\n    .dataframe tbody tr th:only-of-type {\n        vertical-align: middle;\n    }\n\n    .dataframe tbody tr th {\n        vertical-align: top;\n    }\n\n    .dataframe thead th {\n        text-align: right;\n    }\n</style>\n<table border=\"1\" class=\"dataframe\">\n  <thead>\n    <tr style=\"text-align: right;\">\n      <th></th>\n      <th>outgoing_mins_per_month</th>\n      <th>outgoing_sms_per_month</th>\n      <th>monthly_mb</th>\n      <th>use_id</th>\n      <th>platform</th>\n      <th>device</th>\n    </tr>\n  </thead>\n  <tbody>\n    <tr>\n      <th>0</th>\n      <td>21.97</td>\n      <td>4.82</td>\n      <td>1557.33</td>\n      <td>22787</td>\n      <td>android</td>\n      <td>GT-I9505</td>\n    </tr>\n    <tr>\n      <th>1</th>\n      <td>1710.08</td>\n      <td>136.88</td>\n      <td>7267.55</td>\n      <td>22788</td>\n      <td>android</td>\n      <td>SM-G930F</td>\n    </tr>\n    <tr>\n      <th>2</th>\n      <td>1710.08</td>\n      <td>136.88</td>\n      <td>7267.55</td>\n      <td>22789</td>\n      <td>android</td>\n      <td>SM-G930F</td>\n    </tr>\n    <tr>\n      <th>3</th>\n      <td>94.46</td>\n      <td>35.17</td>\n      <td>519.12</td>\n      <td>22790</td>\n      <td>android</td>\n      <td>D2303</td>\n    </tr>\n    <tr>\n      <th>4</th>\n      <td>71.59</td>\n      <td>79.26</td>\n      <td>1557.33</td>\n      <td>22792</td>\n      <td>android</td>\n      <td>SM-G361F</td>\n    </tr>\n  </tbody>\n</table>\n</div>"
     },
     "metadata": {},
     "execution_count": 55
    }
   ],
   "source": [
    "result=pd.merge(user_usage,user_device[['use_id','platform','device']],on='use_id')\n",
    "result.head()"
   ]
  },
  {
   "cell_type": "markdown",
   "metadata": {},
   "source": [
    "### Afficher la `shape` de vos dataset ainsi que celle du dataset de sortie \n",
    "\n",
    "Que remarquez vous ? "
   ]
  },
  {
   "cell_type": "code",
   "execution_count": 41,
   "metadata": {
    "scrolled": true,
    "tags": []
   },
   "outputs": [
    {
     "output_type": "stream",
     "name": "stdout",
     "text": "(240, 4)\n(272, 6)\n(159, 6)\n"
    }
   ],
   "source": [
    "print(user_usage.shape)\n",
    "print(user_device.shape)\n",
    "print(result.shape)"
   ]
  },
  {
   "cell_type": "markdown",
   "metadata": {},
   "source": [
    "### Afficher via `value_counts` les `use_id` présent dans le nouveau dataset ainsi que ceux non présent "
   ]
  },
  {
   "cell_type": "code",
   "execution_count": 43,
   "metadata": {
    "scrolled": true
   },
   "outputs": [
    {
     "output_type": "execute_result",
     "data": {
      "text/plain": "use_id\n23053    1\n22876    1\n22885    1\n22884    1\n22883    1\n        ..\n22968    1\n22967    1\n22966    1\n22965    1\n22787    1\nLength: 159, dtype: int64"
     },
     "metadata": {},
     "execution_count": 43
    }
   ],
   "source": [
    "result.value_counts('use_id')"
   ]
  },
  {
   "cell_type": "markdown",
   "metadata": {},
   "source": [
    "### Le left merge\n",
    "\n",
    "Afficher la `shape` du dataset `user_usage`, celle du dataset de sortie ainsi que les valeurs manquantes. "
   ]
  },
  {
   "cell_type": "code",
   "execution_count": 50,
   "metadata": {
    "tags": []
   },
   "outputs": [
    {
     "output_type": "execute_result",
     "data": {
      "text/plain": "True     159\nFalse     81\nName: use_id, dtype: int64"
     },
     "metadata": {},
     "execution_count": 50
    }
   ],
   "source": [
    "user_usage['use_id'].isin(result['use_id']).value_counts()"
   ]
  },
  {
   "cell_type": "markdown",
   "metadata": {},
   "source": [
    "### Afficher votre dataset "
   ]
  },
  {
   "cell_type": "code",
   "execution_count": 49,
   "metadata": {
    "scrolled": false
   },
   "outputs": [
    {
     "output_type": "execute_result",
     "data": {
      "text/plain": "True     159\nFalse     81\nName: use_id, dtype: int64"
     },
     "metadata": {},
     "execution_count": 49
    }
   ],
   "source": []
  },
  {
   "cell_type": "markdown",
   "metadata": {},
   "source": [
    "### Le right merge\n",
    "\n",
    "Afficher la `shape` du dataset `user_device`, celle du dataset de sortie ainsi que les valeurs manquantes des colonnes `monthly_mb` et `platform`. "
   ]
  },
  {
   "cell_type": "code",
   "execution_count": 21,
   "metadata": {
    "scrolled": true
   },
   "outputs": [
    {
     "name": "stdout",
     "output_type": "stream",
     "text": [
      "user_device dimensions: (272, 6)\n",
      "result dimensions: (272, 6)\n",
      "There are 113 missing values in the 'monthly_mb' column in the result.\n",
      "There are 0 missing values in the 'platform' column in the result.\n"
     ]
    }
   ],
   "source": []
  },
  {
   "cell_type": "markdown",
   "metadata": {},
   "source": [
    "### Le outer merge example\n",
    "\n",
    "Afficher les valeurs unique de `use_id` des datasets `user_device` & `user_usage`, celle du dataset de sortie ainsi que les valeurs no manquantes. "
   ]
  },
  {
   "cell_type": "code",
   "execution_count": 47,
   "metadata": {},
   "outputs": [
    {
     "name": "stdout",
     "output_type": "stream",
     "text": [
      "There are 353 unique values of use_id in our dataframes.\n",
      "Outer merge result has (353, 7) rows.\n",
      "There are 159 rows with no missing values.\n"
     ]
    }
   ],
   "source": []
  },
  {
   "cell_type": "markdown",
   "metadata": {},
   "source": [
    "### Afficher les lignes `0,1,200,201,350,351`"
   ]
  },
  {
   "cell_type": "code",
   "execution_count": 56,
   "metadata": {
    "tags": []
   },
   "outputs": [
    {
     "output_type": "stream",
     "name": "stdout",
     "text": "outgoing_mins_per_month       21.97\noutgoing_sms_per_month         4.82\nmonthly_mb                  1557.33\nuse_id                        22787\nplatform                    android\ndevice                     GT-I9505\nName: 0, dtype: object\noutgoing_mins_per_month     1710.08\noutgoing_sms_per_month       136.88\nmonthly_mb                  7267.55\nuse_id                        22788\nplatform                    android\ndevice                     SM-G930F\nName: 1, dtype: object\n"
    },
    {
     "output_type": "error",
     "ename": "KeyError",
     "evalue": "200",
     "traceback": [
      "\u001b[1;31m---------------------------------------------------------------------------\u001b[0m",
      "\u001b[1;31mKeyError\u001b[0m                                  Traceback (most recent call last)",
      "\u001b[1;32m~\\AppData\\Local\\Programs\\Python\\Python38-32\\lib\\site-packages\\pandas\\core\\indexes\\base.py\u001b[0m in \u001b[0;36mget_loc\u001b[1;34m(self, key, method, tolerance)\u001b[0m\n\u001b[0;32m   2890\u001b[0m             \u001b[1;32mtry\u001b[0m\u001b[1;33m:\u001b[0m\u001b[1;33m\u001b[0m\u001b[1;33m\u001b[0m\u001b[0m\n\u001b[1;32m-> 2891\u001b[1;33m                 \u001b[1;32mreturn\u001b[0m \u001b[0mself\u001b[0m\u001b[1;33m.\u001b[0m\u001b[0m_engine\u001b[0m\u001b[1;33m.\u001b[0m\u001b[0mget_loc\u001b[0m\u001b[1;33m(\u001b[0m\u001b[0mcasted_key\u001b[0m\u001b[1;33m)\u001b[0m\u001b[1;33m\u001b[0m\u001b[1;33m\u001b[0m\u001b[0m\n\u001b[0m\u001b[0;32m   2892\u001b[0m             \u001b[1;32mexcept\u001b[0m \u001b[0mKeyError\u001b[0m \u001b[1;32mas\u001b[0m \u001b[0merr\u001b[0m\u001b[1;33m:\u001b[0m\u001b[1;33m\u001b[0m\u001b[1;33m\u001b[0m\u001b[0m\n",
      "\u001b[1;32mpandas\\_libs\\index.pyx\u001b[0m in \u001b[0;36mpandas._libs.index.IndexEngine.get_loc\u001b[1;34m()\u001b[0m\n",
      "\u001b[1;32mpandas\\_libs\\index.pyx\u001b[0m in \u001b[0;36mpandas._libs.index.IndexEngine.get_loc\u001b[1;34m()\u001b[0m\n",
      "\u001b[1;32mpandas\\_libs\\hashtable_class_helper.pxi\u001b[0m in \u001b[0;36mpandas._libs.hashtable.Int64HashTable.get_item\u001b[1;34m()\u001b[0m\n",
      "\u001b[1;32mpandas\\_libs\\hashtable_class_helper.pxi\u001b[0m in \u001b[0;36mpandas._libs.hashtable.Int64HashTable.get_item\u001b[1;34m()\u001b[0m\n",
      "\u001b[1;31mKeyError\u001b[0m: 200",
      "\nThe above exception was the direct cause of the following exception:\n",
      "\u001b[1;31mKeyError\u001b[0m                                  Traceback (most recent call last)",
      "\u001b[1;32m<ipython-input-56-7f89cc7805f0>\u001b[0m in \u001b[0;36m<module>\u001b[1;34m\u001b[0m\n\u001b[0;32m      1\u001b[0m \u001b[0mtemp\u001b[0m \u001b[1;33m=\u001b[0m \u001b[1;33m[\u001b[0m\u001b[1;36m0\u001b[0m\u001b[1;33m,\u001b[0m\u001b[1;36m1\u001b[0m\u001b[1;33m,\u001b[0m\u001b[1;36m200\u001b[0m\u001b[1;33m,\u001b[0m\u001b[1;36m201\u001b[0m\u001b[1;33m,\u001b[0m\u001b[1;36m350\u001b[0m\u001b[1;33m,\u001b[0m\u001b[1;36m351\u001b[0m\u001b[1;33m]\u001b[0m\u001b[1;33m\u001b[0m\u001b[1;33m\u001b[0m\u001b[0m\n\u001b[0;32m      2\u001b[0m \u001b[1;32mfor\u001b[0m \u001b[0mi\u001b[0m \u001b[1;32min\u001b[0m \u001b[0mtemp\u001b[0m\u001b[1;33m:\u001b[0m\u001b[1;33m\u001b[0m\u001b[1;33m\u001b[0m\u001b[0m\n\u001b[1;32m----> 3\u001b[1;33m     \u001b[0mprint\u001b[0m\u001b[1;33m(\u001b[0m\u001b[0mresult\u001b[0m\u001b[1;33m.\u001b[0m\u001b[0mloc\u001b[0m\u001b[1;33m[\u001b[0m\u001b[0mi\u001b[0m\u001b[1;33m]\u001b[0m\u001b[1;33m)\u001b[0m\u001b[1;33m\u001b[0m\u001b[1;33m\u001b[0m\u001b[0m\n\u001b[0m",
      "\u001b[1;32m~\\AppData\\Local\\Programs\\Python\\Python38-32\\lib\\site-packages\\pandas\\core\\indexing.py\u001b[0m in \u001b[0;36m__getitem__\u001b[1;34m(self, key)\u001b[0m\n\u001b[0;32m    877\u001b[0m \u001b[1;33m\u001b[0m\u001b[0m\n\u001b[0;32m    878\u001b[0m             \u001b[0mmaybe_callable\u001b[0m \u001b[1;33m=\u001b[0m \u001b[0mcom\u001b[0m\u001b[1;33m.\u001b[0m\u001b[0mapply_if_callable\u001b[0m\u001b[1;33m(\u001b[0m\u001b[0mkey\u001b[0m\u001b[1;33m,\u001b[0m \u001b[0mself\u001b[0m\u001b[1;33m.\u001b[0m\u001b[0mobj\u001b[0m\u001b[1;33m)\u001b[0m\u001b[1;33m\u001b[0m\u001b[1;33m\u001b[0m\u001b[0m\n\u001b[1;32m--> 879\u001b[1;33m             \u001b[1;32mreturn\u001b[0m \u001b[0mself\u001b[0m\u001b[1;33m.\u001b[0m\u001b[0m_getitem_axis\u001b[0m\u001b[1;33m(\u001b[0m\u001b[0mmaybe_callable\u001b[0m\u001b[1;33m,\u001b[0m \u001b[0maxis\u001b[0m\u001b[1;33m=\u001b[0m\u001b[0maxis\u001b[0m\u001b[1;33m)\u001b[0m\u001b[1;33m\u001b[0m\u001b[1;33m\u001b[0m\u001b[0m\n\u001b[0m\u001b[0;32m    880\u001b[0m \u001b[1;33m\u001b[0m\u001b[0m\n\u001b[0;32m    881\u001b[0m     \u001b[1;32mdef\u001b[0m \u001b[0m_is_scalar_access\u001b[0m\u001b[1;33m(\u001b[0m\u001b[0mself\u001b[0m\u001b[1;33m,\u001b[0m \u001b[0mkey\u001b[0m\u001b[1;33m:\u001b[0m \u001b[0mTuple\u001b[0m\u001b[1;33m)\u001b[0m\u001b[1;33m:\u001b[0m\u001b[1;33m\u001b[0m\u001b[1;33m\u001b[0m\u001b[0m\n",
      "\u001b[1;32m~\\AppData\\Local\\Programs\\Python\\Python38-32\\lib\\site-packages\\pandas\\core\\indexing.py\u001b[0m in \u001b[0;36m_getitem_axis\u001b[1;34m(self, key, axis)\u001b[0m\n\u001b[0;32m   1108\u001b[0m         \u001b[1;31m# fall thru to straight lookup\u001b[0m\u001b[1;33m\u001b[0m\u001b[1;33m\u001b[0m\u001b[1;33m\u001b[0m\u001b[0m\n\u001b[0;32m   1109\u001b[0m         \u001b[0mself\u001b[0m\u001b[1;33m.\u001b[0m\u001b[0m_validate_key\u001b[0m\u001b[1;33m(\u001b[0m\u001b[0mkey\u001b[0m\u001b[1;33m,\u001b[0m \u001b[0maxis\u001b[0m\u001b[1;33m)\u001b[0m\u001b[1;33m\u001b[0m\u001b[1;33m\u001b[0m\u001b[0m\n\u001b[1;32m-> 1110\u001b[1;33m         \u001b[1;32mreturn\u001b[0m \u001b[0mself\u001b[0m\u001b[1;33m.\u001b[0m\u001b[0m_get_label\u001b[0m\u001b[1;33m(\u001b[0m\u001b[0mkey\u001b[0m\u001b[1;33m,\u001b[0m \u001b[0maxis\u001b[0m\u001b[1;33m=\u001b[0m\u001b[0maxis\u001b[0m\u001b[1;33m)\u001b[0m\u001b[1;33m\u001b[0m\u001b[1;33m\u001b[0m\u001b[0m\n\u001b[0m\u001b[0;32m   1111\u001b[0m \u001b[1;33m\u001b[0m\u001b[0m\n\u001b[0;32m   1112\u001b[0m     \u001b[1;32mdef\u001b[0m \u001b[0m_get_slice_axis\u001b[0m\u001b[1;33m(\u001b[0m\u001b[0mself\u001b[0m\u001b[1;33m,\u001b[0m \u001b[0mslice_obj\u001b[0m\u001b[1;33m:\u001b[0m \u001b[0mslice\u001b[0m\u001b[1;33m,\u001b[0m \u001b[0maxis\u001b[0m\u001b[1;33m:\u001b[0m \u001b[0mint\u001b[0m\u001b[1;33m)\u001b[0m\u001b[1;33m:\u001b[0m\u001b[1;33m\u001b[0m\u001b[1;33m\u001b[0m\u001b[0m\n",
      "\u001b[1;32m~\\AppData\\Local\\Programs\\Python\\Python38-32\\lib\\site-packages\\pandas\\core\\indexing.py\u001b[0m in \u001b[0;36m_get_label\u001b[1;34m(self, label, axis)\u001b[0m\n\u001b[0;32m   1057\u001b[0m     \u001b[1;32mdef\u001b[0m \u001b[0m_get_label\u001b[0m\u001b[1;33m(\u001b[0m\u001b[0mself\u001b[0m\u001b[1;33m,\u001b[0m \u001b[0mlabel\u001b[0m\u001b[1;33m,\u001b[0m \u001b[0maxis\u001b[0m\u001b[1;33m:\u001b[0m \u001b[0mint\u001b[0m\u001b[1;33m)\u001b[0m\u001b[1;33m:\u001b[0m\u001b[1;33m\u001b[0m\u001b[1;33m\u001b[0m\u001b[0m\n\u001b[0;32m   1058\u001b[0m         \u001b[1;31m# GH#5667 this will fail if the label is not present in the axis.\u001b[0m\u001b[1;33m\u001b[0m\u001b[1;33m\u001b[0m\u001b[1;33m\u001b[0m\u001b[0m\n\u001b[1;32m-> 1059\u001b[1;33m         \u001b[1;32mreturn\u001b[0m \u001b[0mself\u001b[0m\u001b[1;33m.\u001b[0m\u001b[0mobj\u001b[0m\u001b[1;33m.\u001b[0m\u001b[0mxs\u001b[0m\u001b[1;33m(\u001b[0m\u001b[0mlabel\u001b[0m\u001b[1;33m,\u001b[0m \u001b[0maxis\u001b[0m\u001b[1;33m=\u001b[0m\u001b[0maxis\u001b[0m\u001b[1;33m)\u001b[0m\u001b[1;33m\u001b[0m\u001b[1;33m\u001b[0m\u001b[0m\n\u001b[0m\u001b[0;32m   1060\u001b[0m \u001b[1;33m\u001b[0m\u001b[0m\n\u001b[0;32m   1061\u001b[0m     \u001b[1;32mdef\u001b[0m \u001b[0m_handle_lowerdim_multi_index_axis0\u001b[0m\u001b[1;33m(\u001b[0m\u001b[0mself\u001b[0m\u001b[1;33m,\u001b[0m \u001b[0mtup\u001b[0m\u001b[1;33m:\u001b[0m \u001b[0mTuple\u001b[0m\u001b[1;33m)\u001b[0m\u001b[1;33m:\u001b[0m\u001b[1;33m\u001b[0m\u001b[1;33m\u001b[0m\u001b[0m\n",
      "\u001b[1;32m~\\AppData\\Local\\Programs\\Python\\Python38-32\\lib\\site-packages\\pandas\\core\\generic.py\u001b[0m in \u001b[0;36mxs\u001b[1;34m(self, key, axis, level, drop_level)\u001b[0m\n\u001b[0;32m   3486\u001b[0m             \u001b[0mloc\u001b[0m\u001b[1;33m,\u001b[0m \u001b[0mnew_index\u001b[0m \u001b[1;33m=\u001b[0m \u001b[0mself\u001b[0m\u001b[1;33m.\u001b[0m\u001b[0mindex\u001b[0m\u001b[1;33m.\u001b[0m\u001b[0mget_loc_level\u001b[0m\u001b[1;33m(\u001b[0m\u001b[0mkey\u001b[0m\u001b[1;33m,\u001b[0m \u001b[0mdrop_level\u001b[0m\u001b[1;33m=\u001b[0m\u001b[0mdrop_level\u001b[0m\u001b[1;33m)\u001b[0m\u001b[1;33m\u001b[0m\u001b[1;33m\u001b[0m\u001b[0m\n\u001b[0;32m   3487\u001b[0m         \u001b[1;32melse\u001b[0m\u001b[1;33m:\u001b[0m\u001b[1;33m\u001b[0m\u001b[1;33m\u001b[0m\u001b[0m\n\u001b[1;32m-> 3488\u001b[1;33m             \u001b[0mloc\u001b[0m \u001b[1;33m=\u001b[0m \u001b[0mself\u001b[0m\u001b[1;33m.\u001b[0m\u001b[0mindex\u001b[0m\u001b[1;33m.\u001b[0m\u001b[0mget_loc\u001b[0m\u001b[1;33m(\u001b[0m\u001b[0mkey\u001b[0m\u001b[1;33m)\u001b[0m\u001b[1;33m\u001b[0m\u001b[1;33m\u001b[0m\u001b[0m\n\u001b[0m\u001b[0;32m   3489\u001b[0m \u001b[1;33m\u001b[0m\u001b[0m\n\u001b[0;32m   3490\u001b[0m             \u001b[1;32mif\u001b[0m \u001b[0misinstance\u001b[0m\u001b[1;33m(\u001b[0m\u001b[0mloc\u001b[0m\u001b[1;33m,\u001b[0m \u001b[0mnp\u001b[0m\u001b[1;33m.\u001b[0m\u001b[0mndarray\u001b[0m\u001b[1;33m)\u001b[0m\u001b[1;33m:\u001b[0m\u001b[1;33m\u001b[0m\u001b[1;33m\u001b[0m\u001b[0m\n",
      "\u001b[1;32m~\\AppData\\Local\\Programs\\Python\\Python38-32\\lib\\site-packages\\pandas\\core\\indexes\\base.py\u001b[0m in \u001b[0;36mget_loc\u001b[1;34m(self, key, method, tolerance)\u001b[0m\n\u001b[0;32m   2891\u001b[0m                 \u001b[1;32mreturn\u001b[0m \u001b[0mself\u001b[0m\u001b[1;33m.\u001b[0m\u001b[0m_engine\u001b[0m\u001b[1;33m.\u001b[0m\u001b[0mget_loc\u001b[0m\u001b[1;33m(\u001b[0m\u001b[0mcasted_key\u001b[0m\u001b[1;33m)\u001b[0m\u001b[1;33m\u001b[0m\u001b[1;33m\u001b[0m\u001b[0m\n\u001b[0;32m   2892\u001b[0m             \u001b[1;32mexcept\u001b[0m \u001b[0mKeyError\u001b[0m \u001b[1;32mas\u001b[0m \u001b[0merr\u001b[0m\u001b[1;33m:\u001b[0m\u001b[1;33m\u001b[0m\u001b[1;33m\u001b[0m\u001b[0m\n\u001b[1;32m-> 2893\u001b[1;33m                 \u001b[1;32mraise\u001b[0m \u001b[0mKeyError\u001b[0m\u001b[1;33m(\u001b[0m\u001b[0mkey\u001b[0m\u001b[1;33m)\u001b[0m \u001b[1;32mfrom\u001b[0m \u001b[0merr\u001b[0m\u001b[1;33m\u001b[0m\u001b[1;33m\u001b[0m\u001b[0m\n\u001b[0m\u001b[0;32m   2894\u001b[0m \u001b[1;33m\u001b[0m\u001b[0m\n\u001b[0;32m   2895\u001b[0m         \u001b[1;32mif\u001b[0m \u001b[0mtolerance\u001b[0m \u001b[1;32mis\u001b[0m \u001b[1;32mnot\u001b[0m \u001b[1;32mNone\u001b[0m\u001b[1;33m:\u001b[0m\u001b[1;33m\u001b[0m\u001b[1;33m\u001b[0m\u001b[0m\n",
      "\u001b[1;31mKeyError\u001b[0m: 200"
     ]
    }
   ],
   "source": [
    "temp = [0,1,200,201,350,351]\n",
    "for i in temp:\n",
    "    print(result.loc[[i]])\n"
   ]
  },
  {
   "cell_type": "markdown",
   "metadata": {},
   "source": [
    "### Ajouter les colonnes `device` & `manufacturer`"
   ]
  },
  {
   "cell_type": "code",
   "execution_count": 78,
   "metadata": {
    "scrolled": true
   },
   "outputs": [
    {
     "data": {
      "text/html": [
       "<div>\n",
       "<table border=\"1\" class=\"dataframe\">\n",
       "  <thead>\n",
       "    <tr style=\"text-align: right;\">\n",
       "      <th></th>\n",
       "      <th>outgoing_mins_per_month</th>\n",
       "      <th>outgoing_sms_per_month</th>\n",
       "      <th>monthly_mb</th>\n",
       "      <th>use_id</th>\n",
       "      <th>platform</th>\n",
       "      <th>device</th>\n",
       "      <th>manufacturer</th>\n",
       "      <th>Model</th>\n",
       "    </tr>\n",
       "  </thead>\n",
       "  <tbody>\n",
       "    <tr>\n",
       "      <th>0</th>\n",
       "      <td>21.97</td>\n",
       "      <td>4.82</td>\n",
       "      <td>1557.33</td>\n",
       "      <td>22787</td>\n",
       "      <td>android</td>\n",
       "      <td>GT-I9505</td>\n",
       "      <td>Samsung</td>\n",
       "      <td>GT-I9505</td>\n",
       "    </tr>\n",
       "    <tr>\n",
       "      <th>1</th>\n",
       "      <td>1710.08</td>\n",
       "      <td>136.88</td>\n",
       "      <td>7267.55</td>\n",
       "      <td>22788</td>\n",
       "      <td>android</td>\n",
       "      <td>SM-G930F</td>\n",
       "      <td>Samsung</td>\n",
       "      <td>SM-G930F</td>\n",
       "    </tr>\n",
       "    <tr>\n",
       "      <th>2</th>\n",
       "      <td>1710.08</td>\n",
       "      <td>136.88</td>\n",
       "      <td>7267.55</td>\n",
       "      <td>22789</td>\n",
       "      <td>android</td>\n",
       "      <td>SM-G930F</td>\n",
       "      <td>Samsung</td>\n",
       "      <td>SM-G930F</td>\n",
       "    </tr>\n",
       "    <tr>\n",
       "      <th>3</th>\n",
       "      <td>94.46</td>\n",
       "      <td>35.17</td>\n",
       "      <td>519.12</td>\n",
       "      <td>22790</td>\n",
       "      <td>android</td>\n",
       "      <td>D2303</td>\n",
       "      <td>Sony</td>\n",
       "      <td>D2303</td>\n",
       "    </tr>\n",
       "    <tr>\n",
       "      <th>4</th>\n",
       "      <td>71.59</td>\n",
       "      <td>79.26</td>\n",
       "      <td>1557.33</td>\n",
       "      <td>22792</td>\n",
       "      <td>android</td>\n",
       "      <td>SM-G361F</td>\n",
       "      <td>Samsung</td>\n",
       "      <td>SM-G361F</td>\n",
       "    </tr>\n",
       "  </tbody>\n",
       "</table>\n",
       "</div>"
      ],
      "text/plain": [
       "   outgoing_mins_per_month  outgoing_sms_per_month  monthly_mb  use_id  \\\n",
       "0                    21.97                    4.82     1557.33   22787   \n",
       "1                  1710.08                  136.88     7267.55   22788   \n",
       "2                  1710.08                  136.88     7267.55   22789   \n",
       "3                    94.46                   35.17      519.12   22790   \n",
       "4                    71.59                   79.26     1557.33   22792   \n",
       "\n",
       "  platform    device manufacturer     Model  \n",
       "0  android  GT-I9505      Samsung  GT-I9505  \n",
       "1  android  SM-G930F      Samsung  SM-G930F  \n",
       "2  android  SM-G930F      Samsung  SM-G930F  \n",
       "3  android     D2303         Sony     D2303  \n",
       "4  android  SM-G361F      Samsung  SM-G361F  "
      ]
     },
     "execution_count": 78,
     "metadata": {},
     "output_type": "execute_result"
    }
   ],
   "source": []
  },
  {
   "cell_type": "markdown",
   "metadata": {},
   "source": [
    "### Afficher les `device` commencant par 'GT'"
   ]
  },
  {
   "cell_type": "code",
   "execution_count": 68,
   "metadata": {
    "scrolled": true
   },
   "outputs": [
    {
     "output_type": "execute_result",
     "data": {
      "text/plain": "     outgoing_mins_per_month  outgoing_sms_per_month  monthly_mb  use_id  \\\n0                      21.97                    4.82     1557.33   22787   \n9                      69.80                   14.70    25955.55   22801   \n11                    189.10                   24.08      519.12   22805   \n26                     85.97                   26.94      407.01   22831   \n45                     29.54                   34.78       33.79   22871   \n48                    249.26                  253.22     1557.33   22875   \n49                    249.26                  253.22     1557.33   22876   \n51                     83.46                  114.06     3114.67   22880   \n58                     16.24                   18.82     1557.33   22887   \n59                    125.32                   38.53     3114.67   22888   \n70                    143.81                   79.38     9005.49   22908   \n73                    392.95                   89.48     1557.33   22916   \n77                    142.73                   61.34     1557.33   22926   \n78                    142.73                   61.34     1557.33   22927   \n89                     61.43                  125.51      519.12   22942   \n90                     16.34                   91.76     3114.67   22943   \n91                     16.34                   91.76    20764.45   22944   \n97                    305.58                  159.50      894.58   22955   \n101                   302.11                   83.14     1557.33   22965   \n111                   360.86                  103.92     3114.67   22977   \n117                   255.47                   14.70     1557.33   22985   \n126                   123.20                    5.83    10158.50   22997   \n128                   119.80                   26.11      803.24   22999   \n\n    platform     device  \n0    android   GT-I9505  \n9    android   GT-I9505  \n11   android   GT-I9195  \n26   android  GT-I8190N  \n45   android   GT-I9300  \n48   android   GT-I9505  \n49   android   GT-I9505  \n51   android   GT-I9505  \n58   android   GT-I9195  \n59   android   GT-I9505  \n70   android   GT-I9505  \n73   android   GT-I9195  \n77   android   GT-I9515  \n78   android   GT-I9515  \n89   android   GT-I9505  \n90   android   GT-N7100  \n91   android   GT-N7100  \n97   android   GT-I9300  \n101  android   GT-I9505  \n111  android   GT-I9505  \n117  android   GT-I9515  \n126  android   GT-I9505  \n128  android   GT-I9506  ",
      "text/html": "<div>\n<style scoped>\n    .dataframe tbody tr th:only-of-type {\n        vertical-align: middle;\n    }\n\n    .dataframe tbody tr th {\n        vertical-align: top;\n    }\n\n    .dataframe thead th {\n        text-align: right;\n    }\n</style>\n<table border=\"1\" class=\"dataframe\">\n  <thead>\n    <tr style=\"text-align: right;\">\n      <th></th>\n      <th>outgoing_mins_per_month</th>\n      <th>outgoing_sms_per_month</th>\n      <th>monthly_mb</th>\n      <th>use_id</th>\n      <th>platform</th>\n      <th>device</th>\n    </tr>\n  </thead>\n  <tbody>\n    <tr>\n      <th>0</th>\n      <td>21.97</td>\n      <td>4.82</td>\n      <td>1557.33</td>\n      <td>22787</td>\n      <td>android</td>\n      <td>GT-I9505</td>\n    </tr>\n    <tr>\n      <th>9</th>\n      <td>69.80</td>\n      <td>14.70</td>\n      <td>25955.55</td>\n      <td>22801</td>\n      <td>android</td>\n      <td>GT-I9505</td>\n    </tr>\n    <tr>\n      <th>11</th>\n      <td>189.10</td>\n      <td>24.08</td>\n      <td>519.12</td>\n      <td>22805</td>\n      <td>android</td>\n      <td>GT-I9195</td>\n    </tr>\n    <tr>\n      <th>26</th>\n      <td>85.97</td>\n      <td>26.94</td>\n      <td>407.01</td>\n      <td>22831</td>\n      <td>android</td>\n      <td>GT-I8190N</td>\n    </tr>\n    <tr>\n      <th>45</th>\n      <td>29.54</td>\n      <td>34.78</td>\n      <td>33.79</td>\n      <td>22871</td>\n      <td>android</td>\n      <td>GT-I9300</td>\n    </tr>\n    <tr>\n      <th>48</th>\n      <td>249.26</td>\n      <td>253.22</td>\n      <td>1557.33</td>\n      <td>22875</td>\n      <td>android</td>\n      <td>GT-I9505</td>\n    </tr>\n    <tr>\n      <th>49</th>\n      <td>249.26</td>\n      <td>253.22</td>\n      <td>1557.33</td>\n      <td>22876</td>\n      <td>android</td>\n      <td>GT-I9505</td>\n    </tr>\n    <tr>\n      <th>51</th>\n      <td>83.46</td>\n      <td>114.06</td>\n      <td>3114.67</td>\n      <td>22880</td>\n      <td>android</td>\n      <td>GT-I9505</td>\n    </tr>\n    <tr>\n      <th>58</th>\n      <td>16.24</td>\n      <td>18.82</td>\n      <td>1557.33</td>\n      <td>22887</td>\n      <td>android</td>\n      <td>GT-I9195</td>\n    </tr>\n    <tr>\n      <th>59</th>\n      <td>125.32</td>\n      <td>38.53</td>\n      <td>3114.67</td>\n      <td>22888</td>\n      <td>android</td>\n      <td>GT-I9505</td>\n    </tr>\n    <tr>\n      <th>70</th>\n      <td>143.81</td>\n      <td>79.38</td>\n      <td>9005.49</td>\n      <td>22908</td>\n      <td>android</td>\n      <td>GT-I9505</td>\n    </tr>\n    <tr>\n      <th>73</th>\n      <td>392.95</td>\n      <td>89.48</td>\n      <td>1557.33</td>\n      <td>22916</td>\n      <td>android</td>\n      <td>GT-I9195</td>\n    </tr>\n    <tr>\n      <th>77</th>\n      <td>142.73</td>\n      <td>61.34</td>\n      <td>1557.33</td>\n      <td>22926</td>\n      <td>android</td>\n      <td>GT-I9515</td>\n    </tr>\n    <tr>\n      <th>78</th>\n      <td>142.73</td>\n      <td>61.34</td>\n      <td>1557.33</td>\n      <td>22927</td>\n      <td>android</td>\n      <td>GT-I9515</td>\n    </tr>\n    <tr>\n      <th>89</th>\n      <td>61.43</td>\n      <td>125.51</td>\n      <td>519.12</td>\n      <td>22942</td>\n      <td>android</td>\n      <td>GT-I9505</td>\n    </tr>\n    <tr>\n      <th>90</th>\n      <td>16.34</td>\n      <td>91.76</td>\n      <td>3114.67</td>\n      <td>22943</td>\n      <td>android</td>\n      <td>GT-N7100</td>\n    </tr>\n    <tr>\n      <th>91</th>\n      <td>16.34</td>\n      <td>91.76</td>\n      <td>20764.45</td>\n      <td>22944</td>\n      <td>android</td>\n      <td>GT-N7100</td>\n    </tr>\n    <tr>\n      <th>97</th>\n      <td>305.58</td>\n      <td>159.50</td>\n      <td>894.58</td>\n      <td>22955</td>\n      <td>android</td>\n      <td>GT-I9300</td>\n    </tr>\n    <tr>\n      <th>101</th>\n      <td>302.11</td>\n      <td>83.14</td>\n      <td>1557.33</td>\n      <td>22965</td>\n      <td>android</td>\n      <td>GT-I9505</td>\n    </tr>\n    <tr>\n      <th>111</th>\n      <td>360.86</td>\n      <td>103.92</td>\n      <td>3114.67</td>\n      <td>22977</td>\n      <td>android</td>\n      <td>GT-I9505</td>\n    </tr>\n    <tr>\n      <th>117</th>\n      <td>255.47</td>\n      <td>14.70</td>\n      <td>1557.33</td>\n      <td>22985</td>\n      <td>android</td>\n      <td>GT-I9515</td>\n    </tr>\n    <tr>\n      <th>126</th>\n      <td>123.20</td>\n      <td>5.83</td>\n      <td>10158.50</td>\n      <td>22997</td>\n      <td>android</td>\n      <td>GT-I9505</td>\n    </tr>\n    <tr>\n      <th>128</th>\n      <td>119.80</td>\n      <td>26.11</td>\n      <td>803.24</td>\n      <td>22999</td>\n      <td>android</td>\n      <td>GT-I9506</td>\n    </tr>\n  </tbody>\n</table>\n</div>"
     },
     "metadata": {},
     "execution_count": 68
    }
   ],
   "source": [
    "check = result['device'].str.startswith('GT', na=False)\n",
    "result[check]"
   ]
  },
  {
   "cell_type": "markdown",
   "metadata": {},
   "source": [
    "### Afficher le dataset des résultats "
   ]
  },
  {
   "cell_type": "code",
   "execution_count": 80,
   "metadata": {
    "scrolled": false
   },
   "outputs": [
    {
     "data": {
      "text/html": [
       "<div>\n",
       "<table border=\"1\" class=\"dataframe\">\n",
       "  <thead>\n",
       "    <tr style=\"text-align: right;\">\n",
       "      <th></th>\n",
       "      <th>outgoing_mins_per_month</th>\n",
       "      <th>outgoing_sms_per_month</th>\n",
       "      <th>monthly_mb</th>\n",
       "      <th>use_id</th>\n",
       "      <th>platform</th>\n",
       "      <th>device</th>\n",
       "      <th>manufacturer</th>\n",
       "      <th>Model</th>\n",
       "    </tr>\n",
       "  </thead>\n",
       "  <tbody>\n",
       "    <tr>\n",
       "      <th>0</th>\n",
       "      <td>21.97</td>\n",
       "      <td>4.82</td>\n",
       "      <td>1557.33</td>\n",
       "      <td>22787</td>\n",
       "      <td>android</td>\n",
       "      <td>GT-I9505</td>\n",
       "      <td>Samsung</td>\n",
       "      <td>GT-I9505</td>\n",
       "    </tr>\n",
       "    <tr>\n",
       "      <th>1</th>\n",
       "      <td>1710.08</td>\n",
       "      <td>136.88</td>\n",
       "      <td>7267.55</td>\n",
       "      <td>22788</td>\n",
       "      <td>android</td>\n",
       "      <td>SM-G930F</td>\n",
       "      <td>Samsung</td>\n",
       "      <td>SM-G930F</td>\n",
       "    </tr>\n",
       "    <tr>\n",
       "      <th>2</th>\n",
       "      <td>1710.08</td>\n",
       "      <td>136.88</td>\n",
       "      <td>7267.55</td>\n",
       "      <td>22789</td>\n",
       "      <td>android</td>\n",
       "      <td>SM-G930F</td>\n",
       "      <td>Samsung</td>\n",
       "      <td>SM-G930F</td>\n",
       "    </tr>\n",
       "    <tr>\n",
       "      <th>3</th>\n",
       "      <td>94.46</td>\n",
       "      <td>35.17</td>\n",
       "      <td>519.12</td>\n",
       "      <td>22790</td>\n",
       "      <td>android</td>\n",
       "      <td>D2303</td>\n",
       "      <td>Sony</td>\n",
       "      <td>D2303</td>\n",
       "    </tr>\n",
       "    <tr>\n",
       "      <th>4</th>\n",
       "      <td>71.59</td>\n",
       "      <td>79.26</td>\n",
       "      <td>1557.33</td>\n",
       "      <td>22792</td>\n",
       "      <td>android</td>\n",
       "      <td>SM-G361F</td>\n",
       "      <td>Samsung</td>\n",
       "      <td>SM-G361F</td>\n",
       "    </tr>\n",
       "  </tbody>\n",
       "</table>\n",
       "</div>"
      ],
      "text/plain": [
       "   outgoing_mins_per_month  outgoing_sms_per_month  monthly_mb  use_id  \\\n",
       "0                    21.97                    4.82     1557.33   22787   \n",
       "1                  1710.08                  136.88     7267.55   22788   \n",
       "2                  1710.08                  136.88     7267.55   22789   \n",
       "3                    94.46                   35.17      519.12   22790   \n",
       "4                    71.59                   79.26     1557.33   22792   \n",
       "\n",
       "  platform    device manufacturer     Model  \n",
       "0  android  GT-I9505      Samsung  GT-I9505  \n",
       "1  android  SM-G930F      Samsung  SM-G930F  \n",
       "2  android  SM-G930F      Samsung  SM-G930F  \n",
       "3  android     D2303         Sony     D2303  \n",
       "4  android  SM-G361F      Samsung  SM-G361F  "
      ]
     },
     "execution_count": 80,
     "metadata": {},
     "output_type": "execute_result"
    }
   ],
   "source": []
  },
  {
   "cell_type": "markdown",
   "metadata": {},
   "source": [
    "### Grouper vos données par `manufacturer`\n",
    "Compter les `use_id` et afficher les moyennes des colonnes `outgoing_mins_per_month`, `outgoing_sms_per_month`, `monthly_mb`"
   ]
  },
  {
   "cell_type": "code",
   "execution_count": 84,
   "metadata": {},
   "outputs": [
    {
     "data": {
      "text/html": [
       "<div>\n",
       "<table border=\"1\" class=\"dataframe\">\n",
       "  <thead>\n",
       "    <tr style=\"text-align: right;\">\n",
       "      <th></th>\n",
       "      <th>use_id</th>\n",
       "      <th>outgoing_mins_per_month</th>\n",
       "      <th>outgoing_sms_per_month</th>\n",
       "      <th>monthly_mb</th>\n",
       "    </tr>\n",
       "    <tr>\n",
       "      <th>manufacturer</th>\n",
       "      <th></th>\n",
       "      <th></th>\n",
       "      <th></th>\n",
       "      <th></th>\n",
       "    </tr>\n",
       "  </thead>\n",
       "  <tbody>\n",
       "    <tr>\n",
       "      <th>HTC</th>\n",
       "      <td>44</td>\n",
       "      <td>299.842955</td>\n",
       "      <td>93.059318</td>\n",
       "      <td>5144.077955</td>\n",
       "    </tr>\n",
       "    <tr>\n",
       "      <th>Huawei</th>\n",
       "      <td>3</td>\n",
       "      <td>81.526667</td>\n",
       "      <td>9.500000</td>\n",
       "      <td>1561.226667</td>\n",
       "    </tr>\n",
       "    <tr>\n",
       "      <th>LGE</th>\n",
       "      <td>2</td>\n",
       "      <td>111.530000</td>\n",
       "      <td>12.760000</td>\n",
       "      <td>1557.330000</td>\n",
       "    </tr>\n",
       "    <tr>\n",
       "      <th>Lava</th>\n",
       "      <td>2</td>\n",
       "      <td>60.650000</td>\n",
       "      <td>261.900000</td>\n",
       "      <td>12458.670000</td>\n",
       "    </tr>\n",
       "    <tr>\n",
       "      <th>Lenovo</th>\n",
       "      <td>2</td>\n",
       "      <td>215.920000</td>\n",
       "      <td>12.930000</td>\n",
       "      <td>1557.330000</td>\n",
       "    </tr>\n",
       "    <tr>\n",
       "      <th>Motorola</th>\n",
       "      <td>16</td>\n",
       "      <td>95.127500</td>\n",
       "      <td>65.666250</td>\n",
       "      <td>3946.500000</td>\n",
       "    </tr>\n",
       "    <tr>\n",
       "      <th>OnePlus</th>\n",
       "      <td>6</td>\n",
       "      <td>354.855000</td>\n",
       "      <td>48.330000</td>\n",
       "      <td>6575.410000</td>\n",
       "    </tr>\n",
       "    <tr>\n",
       "      <th>Samsung</th>\n",
       "      <td>108</td>\n",
       "      <td>191.010093</td>\n",
       "      <td>92.390463</td>\n",
       "      <td>4017.318889</td>\n",
       "    </tr>\n",
       "    <tr>\n",
       "      <th>Sony</th>\n",
       "      <td>16</td>\n",
       "      <td>177.315625</td>\n",
       "      <td>40.176250</td>\n",
       "      <td>3212.000625</td>\n",
       "    </tr>\n",
       "    <tr>\n",
       "      <th>Vodafone</th>\n",
       "      <td>1</td>\n",
       "      <td>42.750000</td>\n",
       "      <td>46.830000</td>\n",
       "      <td>5191.120000</td>\n",
       "    </tr>\n",
       "    <tr>\n",
       "      <th>ZTE</th>\n",
       "      <td>1</td>\n",
       "      <td>42.750000</td>\n",
       "      <td>46.830000</td>\n",
       "      <td>5191.120000</td>\n",
       "    </tr>\n",
       "  </tbody>\n",
       "</table>\n",
       "</div>"
      ],
      "text/plain": [
       "              use_id  outgoing_mins_per_month  outgoing_sms_per_month  \\\n",
       "manufacturer                                                            \n",
       "HTC               44               299.842955               93.059318   \n",
       "Huawei             3                81.526667                9.500000   \n",
       "LGE                2               111.530000               12.760000   \n",
       "Lava               2                60.650000              261.900000   \n",
       "Lenovo             2               215.920000               12.930000   \n",
       "Motorola          16                95.127500               65.666250   \n",
       "OnePlus            6               354.855000               48.330000   \n",
       "Samsung          108               191.010093               92.390463   \n",
       "Sony              16               177.315625               40.176250   \n",
       "Vodafone           1                42.750000               46.830000   \n",
       "ZTE                1                42.750000               46.830000   \n",
       "\n",
       "                monthly_mb  \n",
       "manufacturer                \n",
       "HTC            5144.077955  \n",
       "Huawei         1561.226667  \n",
       "LGE            1557.330000  \n",
       "Lava          12458.670000  \n",
       "Lenovo         1557.330000  \n",
       "Motorola       3946.500000  \n",
       "OnePlus        6575.410000  \n",
       "Samsung        4017.318889  \n",
       "Sony           3212.000625  \n",
       "Vodafone       5191.120000  \n",
       "ZTE            5191.120000  "
      ]
     },
     "execution_count": 84,
     "metadata": {},
     "output_type": "execute_result"
    }
   ],
   "source": [
    "user_usage['use_id'].isin(result['use_id']).value_counts()\n"
   ]
  }
 ],
 "metadata": {
  "kernelspec": {
   "display_name": "Python 3",
   "language": "python",
   "name": "python3"
  },
  "language_info": {
   "codemirror_mode": {
    "name": "ipython",
    "version": 3
   },
   "file_extension": ".py",
   "mimetype": "text/x-python",
   "name": "python",
   "nbconvert_exporter": "python",
   "pygments_lexer": "ipython3",
   "version": "3.8.5-final"
  },
  "latex_envs": {
   "LaTeX_envs_menu_present": true,
   "autoclose": false,
   "autocomplete": true,
   "bibliofile": "biblio.bib",
   "cite_by": "apalike",
   "current_citInitial": 1,
   "eqLabelWithNumbers": true,
   "eqNumInitial": 1,
   "hotkeys": {
    "equation": "Ctrl-E",
    "itemize": "Ctrl-I"
   },
   "labels_anchors": false,
   "latex_user_defs": false,
   "report_style_numbering": false,
   "user_envs_cfg": false
  },
  "toc": {
   "base_numbering": 1,
   "nav_menu": {},
   "number_sections": true,
   "sideBar": true,
   "skip_h1_title": false,
   "title_cell": "Table of Contents",
   "title_sidebar": "Contents",
   "toc_cell": false,
   "toc_position": {},
   "toc_section_display": true,
   "toc_window_display": false
  },
  "varInspector": {
   "cols": {
    "lenName": 16,
    "lenType": 16,
    "lenVar": 40
   },
   "kernels_config": {
    "python": {
     "delete_cmd_postfix": "",
     "delete_cmd_prefix": "del ",
     "library": "var_list.py",
     "varRefreshCmd": "print(var_dic_list())"
    },
    "r": {
     "delete_cmd_postfix": ") ",
     "delete_cmd_prefix": "rm(",
     "library": "var_list.r",
     "varRefreshCmd": "cat(var_dic_list()) "
    }
   },
   "types_to_exclude": [
    "module",
    "function",
    "builtin_function_or_method",
    "instance",
    "_Feature"
   ],
   "window_display": false
  }
 },
 "nbformat": 4,
 "nbformat_minor": 1
}