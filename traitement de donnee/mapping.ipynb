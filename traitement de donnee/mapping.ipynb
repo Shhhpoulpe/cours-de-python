{
 "cells": [
  {
   "cell_type": "code",
   "execution_count": 251,
   "metadata": {},
   "outputs": [],
   "source": [
    "import pandas as pd \n",
    "import datetime as dt\n",
    "chemin = \"https://bit.ly/felonies-dataset\"\n",
    "data = pd.read_csv(chemin)"
   ]
  },
  {
   "cell_type": "code",
   "execution_count": 252,
   "metadata": {},
   "outputs": [
    {
     "output_type": "execute_result",
     "data": {
      "text/plain": "        Date of Arrest  Age Convicted\n0  2014-07-16 14:59:18   77       Yes\n1  2002-12-19 22:17:59   28       Yes\n2  1994-06-28 09:31:40   21        No\n3  1985-05-14 09:52:17   45       Yes\n4  1985-05-25 14:06:28   39       Yes",
      "text/html": "<div>\n<style scoped>\n    .dataframe tbody tr th:only-of-type {\n        vertical-align: middle;\n    }\n\n    .dataframe tbody tr th {\n        vertical-align: top;\n    }\n\n    .dataframe thead th {\n        text-align: right;\n    }\n</style>\n<table border=\"1\" class=\"dataframe\">\n  <thead>\n    <tr style=\"text-align: right;\">\n      <th></th>\n      <th>Date of Arrest</th>\n      <th>Age</th>\n      <th>Convicted</th>\n    </tr>\n  </thead>\n  <tbody>\n    <tr>\n      <th>0</th>\n      <td>2014-07-16 14:59:18</td>\n      <td>77</td>\n      <td>Yes</td>\n    </tr>\n    <tr>\n      <th>1</th>\n      <td>2002-12-19 22:17:59</td>\n      <td>28</td>\n      <td>Yes</td>\n    </tr>\n    <tr>\n      <th>2</th>\n      <td>1994-06-28 09:31:40</td>\n      <td>21</td>\n      <td>No</td>\n    </tr>\n    <tr>\n      <th>3</th>\n      <td>1985-05-14 09:52:17</td>\n      <td>45</td>\n      <td>Yes</td>\n    </tr>\n    <tr>\n      <th>4</th>\n      <td>1985-05-25 14:06:28</td>\n      <td>39</td>\n      <td>Yes</td>\n    </tr>\n  </tbody>\n</table>\n</div>"
     },
     "metadata": {},
     "execution_count": 252
    }
   ],
   "source": [
    "data.head()"
   ]
  },
  {
   "cell_type": "code",
   "execution_count": 253,
   "metadata": {},
   "outputs": [
    {
     "output_type": "execute_result",
     "data": {
      "text/plain": "(1000, 3)"
     },
     "metadata": {},
     "execution_count": 253
    }
   ],
   "source": [
    "data.shape"
   ]
  },
  {
   "cell_type": "code",
   "execution_count": 254,
   "metadata": {},
   "outputs": [
    {
     "output_type": "execute_result",
     "data": {
      "text/plain": "Date of Arrest    object\nAge                int64\nConvicted         object\ndtype: object"
     },
     "metadata": {},
     "execution_count": 254
    }
   ],
   "source": [
    "data.dtypes"
   ]
  },
  {
   "cell_type": "markdown",
   "metadata": {},
   "source": [
    "la methode map de pandas"
   ]
  },
  {
   "cell_type": "code",
   "execution_count": 255,
   "metadata": {},
   "outputs": [
    {
     "output_type": "execute_result",
     "data": {
      "text/plain": "     Age Convicted                 DOA\n0     77       Yes 2014-07-16 14:59:18\n1     28       Yes 2002-12-19 22:17:59\n2     21        No 1994-06-28 09:31:40\n3     45       Yes 1985-05-14 09:52:17\n4     39       Yes 1985-05-25 14:06:28\n..   ...       ...                 ...\n995   72       Yes 1992-02-04 14:24:25\n996   68       Yes 1996-04-29 18:03:23\n997   87       Yes 1980-07-15 21:59:27\n998   27        No 1999-07-05 17:16:12\n999   57       Yes 1996-03-17 18:29:25\n\n[1000 rows x 3 columns]",
      "text/html": "<div>\n<style scoped>\n    .dataframe tbody tr th:only-of-type {\n        vertical-align: middle;\n    }\n\n    .dataframe tbody tr th {\n        vertical-align: top;\n    }\n\n    .dataframe thead th {\n        text-align: right;\n    }\n</style>\n<table border=\"1\" class=\"dataframe\">\n  <thead>\n    <tr style=\"text-align: right;\">\n      <th></th>\n      <th>Age</th>\n      <th>Convicted</th>\n      <th>DOA</th>\n    </tr>\n  </thead>\n  <tbody>\n    <tr>\n      <th>0</th>\n      <td>77</td>\n      <td>Yes</td>\n      <td>2014-07-16 14:59:18</td>\n    </tr>\n    <tr>\n      <th>1</th>\n      <td>28</td>\n      <td>Yes</td>\n      <td>2002-12-19 22:17:59</td>\n    </tr>\n    <tr>\n      <th>2</th>\n      <td>21</td>\n      <td>No</td>\n      <td>1994-06-28 09:31:40</td>\n    </tr>\n    <tr>\n      <th>3</th>\n      <td>45</td>\n      <td>Yes</td>\n      <td>1985-05-14 09:52:17</td>\n    </tr>\n    <tr>\n      <th>4</th>\n      <td>39</td>\n      <td>Yes</td>\n      <td>1985-05-25 14:06:28</td>\n    </tr>\n    <tr>\n      <th>...</th>\n      <td>...</td>\n      <td>...</td>\n      <td>...</td>\n    </tr>\n    <tr>\n      <th>995</th>\n      <td>72</td>\n      <td>Yes</td>\n      <td>1992-02-04 14:24:25</td>\n    </tr>\n    <tr>\n      <th>996</th>\n      <td>68</td>\n      <td>Yes</td>\n      <td>1996-04-29 18:03:23</td>\n    </tr>\n    <tr>\n      <th>997</th>\n      <td>87</td>\n      <td>Yes</td>\n      <td>1980-07-15 21:59:27</td>\n    </tr>\n    <tr>\n      <th>998</th>\n      <td>27</td>\n      <td>No</td>\n      <td>1999-07-05 17:16:12</td>\n    </tr>\n    <tr>\n      <th>999</th>\n      <td>57</td>\n      <td>Yes</td>\n      <td>1996-03-17 18:29:25</td>\n    </tr>\n  </tbody>\n</table>\n<p>1000 rows × 3 columns</p>\n</div>"
     },
     "metadata": {},
     "execution_count": 255
    }
   ],
   "source": [
    "data['DOA'] = pd.to_datetime(data['Date of Arrest'])\n",
    "data.drop('Date of Arrest',axis=1)"
   ]
  },
  {
   "cell_type": "code",
   "execution_count": 256,
   "metadata": {},
   "outputs": [
    {
     "output_type": "execute_result",
     "data": {
      "text/plain": "Date of Arrest            object\nAge                        int64\nConvicted                 object\nDOA               datetime64[ns]\ndtype: object"
     },
     "metadata": {},
     "execution_count": 256
    }
   ],
   "source": [
    "data.dtypes"
   ]
  },
  {
   "cell_type": "raw",
   "metadata": {},
   "source": [
    "data.DAO.dt.dayofweek"
   ]
  },
  {
   "cell_type": "raw",
   "metadata": {},
   "source": [
    "dow2weekTime = {0:'debut', 1:'}"
   ]
  },
  {
   "cell_type": "raw",
   "metadata": {},
   "source": [
    "data.DOA.dt.dayofweek.map(dow2weektime)\n"
   ]
  },
  {
   "cell_type": "markdown",
   "metadata": {},
   "source": [
    "Liste -> dictionnaire"
   ]
  },
  {
   "cell_type": "code",
   "execution_count": 257,
   "metadata": {},
   "outputs": [],
   "source": [
    "id2str = ('Monday','Tuesday','Wednesday','Thursday','Friday','Saturday','Sunday')"
   ]
  },
  {
   "cell_type": "code",
   "execution_count": 258,
   "metadata": {},
   "outputs": [],
   "source": [
    "str2id = {value:idx for idx, value in enumerate(id2str)}"
   ]
  },
  {
   "cell_type": "code",
   "execution_count": 259,
   "metadata": {},
   "outputs": [],
   "source": [
    "str2id = {value:idx for idx, value in enumerate(id2str)}\n",
    "id2str = {value:idx for idx, value in enumerate(id2str)}"
   ]
  },
  {
   "cell_type": "code",
   "execution_count": 260,
   "metadata": {},
   "outputs": [
    {
     "output_type": "execute_result",
     "data": {
      "text/plain": "0     NaN\n1     NaN\n2     NaN\n3     NaN\n4     NaN\n       ..\n995   NaN\n996   NaN\n997   NaN\n998   NaN\n999   NaN\nName: DOA, Length: 1000, dtype: float64"
     },
     "metadata": {},
     "execution_count": 260
    }
   ],
   "source": [
    "data['DOA'].dt.dayofweek.map(str2id)"
   ]
  },
  {
   "cell_type": "code",
   "execution_count": 261,
   "metadata": {},
   "outputs": [
    {
     "output_type": "execute_result",
     "data": {
      "text/plain": "{'Monday': 0,\n 'Tuesday': 1,\n 'Wednesday': 2,\n 'Thursday': 3,\n 'Friday': 4,\n 'Saturday': 5,\n 'Sunday': 6}"
     },
     "metadata": {},
     "execution_count": 261
    }
   ],
   "source": [
    "str2id"
   ]
  },
  {
   "cell_type": "code",
   "execution_count": 262,
   "metadata": {},
   "outputs": [],
   "source": [
    "periodesemaine = {'monday': 'DEBUT',\n",
    "                  'Tuesday': 'DEBUT',\n",
    " 'Wednesday': 'MILIEU',\n",
    " 'Thursday': 'MILIEU',\n",
    " 'friday': 'FIN',\n",
    " 'saturday': 'FIN',\n",
    " 'sunday': 'FIN'}"
   ]
  },
  {
   "cell_type": "code",
   "execution_count": 263,
   "metadata": {},
   "outputs": [
    {
     "output_type": "execute_result",
     "data": {
      "text/plain": "0      NaN\n1      NaN\n2      NaN\n3      NaN\n4      NaN\n      ... \n995    NaN\n996    NaN\n997    NaN\n998    NaN\n999    NaN\nName: DOA, Length: 1000, dtype: object"
     },
     "metadata": {},
     "execution_count": 263
    }
   ],
   "source": [
    "data['DOA'].dt.dayofweek.map(id2str).map(periodesemaine)"
   ]
  },
  {
   "cell_type": "code",
   "execution_count": 264,
   "metadata": {},
   "outputs": [],
   "source": [
    "data['periode semaine'] = data['DOA'].dt.dayofweek.map(id2str).map(periodesemaine)"
   ]
  },
  {
   "cell_type": "code",
   "execution_count": 265,
   "metadata": {},
   "outputs": [
    {
     "output_type": "execute_result",
     "data": {
      "text/plain": "Date of Arrest             object\nAge                         int64\nConvicted                  object\nDOA                datetime64[ns]\nperiode semaine            object\ndtype: object"
     },
     "metadata": {},
     "execution_count": 265
    }
   ],
   "source": [
    "data.dtypes"
   ]
  },
  {
   "cell_type": "markdown",
   "metadata": {},
   "source": [
    "passer la colonne en type categorie"
   ]
  },
  {
   "cell_type": "code",
   "execution_count": 266,
   "metadata": {},
   "outputs": [],
   "source": [
    "ordre = ['DEBUT','MILIEU','WEEKEND']"
   ]
  },
  {
   "cell_type": "markdown",
   "metadata": {},
   "source": [
    "convertir la colonne de category en int(ordinal)"
   ]
  },
  {
   "cell_type": "code",
   "execution_count": 267,
   "metadata": {},
   "outputs": [
    {
     "output_type": "execute_result",
     "data": {
      "text/plain": "0      NaN\n1      NaN\n2      NaN\n3      NaN\n4      NaN\n      ... \n995    NaN\n996    NaN\n997    NaN\n998    NaN\n999    NaN\nName: periode semaine, Length: 1000, dtype: object"
     },
     "metadata": {},
     "execution_count": 267
    }
   ],
   "source": [
    "data['periode semaine']"
   ]
  },
  {
   "cell_type": "markdown",
   "metadata": {},
   "source": [
    "gerer les cycles"
   ]
  },
  {
   "cell_type": "code",
   "execution_count": 268,
   "metadata": {},
   "outputs": [
    {
     "output_type": "execute_result",
     "data": {
      "text/plain": "DoA          object\nAge           int64\nConvicted    object\ndtype: object"
     },
     "metadata": {},
     "execution_count": 268
    }
   ],
   "source": [
    "chemin = \"https://bit.ly/felonies-dataset\"\n",
    "data = pd.read_csv(chemin)\n",
    "\n",
    "data.rename(columns={'Date of Arrest':'DoA'}, inplace=True)\n",
    "data.dtypes"
   ]
  },
  {
   "cell_type": "code",
   "execution_count": 269,
   "metadata": {},
   "outputs": [],
   "source": [
    "data.DoA = pd.to_datetime(data.DoA)"
   ]
  },
  {
   "cell_type": "code",
   "execution_count": 270,
   "metadata": {},
   "outputs": [
    {
     "output_type": "execute_result",
     "data": {
      "text/plain": "1"
     },
     "metadata": {},
     "execution_count": 270
    }
   ],
   "source": [
    "data['DoA'].dt.month.min()"
   ]
  },
  {
   "cell_type": "code",
   "execution_count": 271,
   "metadata": {},
   "outputs": [
    {
     "output_type": "execute_result",
     "data": {
      "text/plain": "12"
     },
     "metadata": {},
     "execution_count": 271
    }
   ],
   "source": [
    "data['DoA'].dt.month.max()"
   ]
  },
  {
   "cell_type": "code",
   "execution_count": 272,
   "metadata": {},
   "outputs": [
    {
     "output_type": "execute_result",
     "data": {
      "text/plain": "0       716\n1      1219\n2       628\n3       514\n4       525\n       ... \n995     204\n996     429\n997     715\n998     705\n999     317\nName: DoA, Length: 1000, dtype: int64"
     },
     "metadata": {},
     "execution_count": 272
    }
   ],
   "source": [
    "colonneTemporaire = data['DoA'].dt.month * 100 + data['DoA'].dt.day\n",
    "colonneTemporaire"
   ]
  },
  {
   "cell_type": "code",
   "execution_count": 273,
   "metadata": {},
   "outputs": [],
   "source": [
    "avant_janvier = 0 \n",
    "avant_printemps = 320\n",
    "avant_ete = 620\n",
    "avant_automne = 920\n",
    "avant_Hivers = 1220\n",
    "finAnne = 1232\n",
    "bins=[avant_janvier,avant_printemps, avant_ete, avant_automne,avant_Hivers, finAnne]"
   ]
  },
  {
   "cell_type": "code",
   "execution_count": 274,
   "metadata": {},
   "outputs": [
    {
     "output_type": "execute_result",
     "data": {
      "text/plain": "0          ETE\n1      AUTOMNE\n2          ETE\n3    PRINTEMPS\n4    PRINTEMPS\nName: DoA, dtype: category\nCategories (5, object): ['HIVER' < 'PRINTEMPS' < 'ETE' < 'AUTOMNE' < 'HIVER2']"
     },
     "metadata": {},
     "execution_count": 274
    }
   ],
   "source": [
    "\n",
    "saisons = pd.cut(colonneTemporaire, \n",
    "      bins=bins ,\n",
    "      labels=['HIVER','PRINTEMPS','ETE','AUTOMNE','HIVER2'])\n",
    "\n",
    "saisons.head(5)"
   ]
  },
  {
   "cell_type": "code",
   "execution_count": 275,
   "metadata": {},
   "outputs": [],
   "source": [
    "saisons =saisons.str.replace('2','')"
   ]
  },
  {
   "cell_type": "code",
   "execution_count": 276,
   "metadata": {},
   "outputs": [
    {
     "output_type": "execute_result",
     "data": {
      "text/plain": "array(['ETE', 'AUTOMNE', 'PRINTEMPS', 'HIVER'], dtype=object)"
     },
     "metadata": {},
     "execution_count": 276
    }
   ],
   "source": [
    "saisons.unique()"
   ]
  },
  {
   "cell_type": "code",
   "execution_count": 277,
   "metadata": {},
   "outputs": [
    {
     "output_type": "execute_result",
     "data": {
      "text/plain": "0          ETE\n1      AUTOMNE\n2          ETE\n3    PRINTEMPS\n4    PRINTEMPS\nName: DoA, dtype: object"
     },
     "metadata": {},
     "execution_count": 277
    }
   ],
   "source": [
    "saisons.head()"
   ]
  },
  {
   "cell_type": "code",
   "execution_count": 278,
   "metadata": {},
   "outputs": [],
   "source": [
    "\n",
    "saisons = (saisons.astype('category').cat.reorder_categories(['AUTOMNE','HIVER','PRINTEMPS','ETE']).cat.as_ordered())"
   ]
  },
  {
   "cell_type": "code",
   "execution_count": 279,
   "metadata": {},
   "outputs": [
    {
     "output_type": "execute_result",
     "data": {
      "text/plain": "0          ETE\n1      AUTOMNE\n2          ETE\n3    PRINTEMPS\n4    PRINTEMPS\nName: DoA, dtype: category\nCategories (4, object): ['AUTOMNE' < 'HIVER' < 'PRINTEMPS' < 'ETE']"
     },
     "metadata": {},
     "execution_count": 279
    }
   ],
   "source": [
    "saisons.head()"
   ]
  },
  {
   "cell_type": "code",
   "execution_count": 280,
   "metadata": {},
   "outputs": [
    {
     "output_type": "execute_result",
     "data": {
      "text/plain": "0      1459\n1      2217\n2       931\n3       952\n4      1406\n       ... \n995    1424\n996    1803\n997    2159\n998    1716\n999    1829\nName: DoA, Length: 1000, dtype: int64"
     },
     "metadata": {},
     "execution_count": 280
    }
   ],
   "source": [
    "colonneTemporaire = data['DoA'].dt.hour * 100 + data['DoA'].dt.minute\n",
    "colonneTemporaire"
   ]
  },
  {
   "cell_type": "code",
   "execution_count": 283,
   "metadata": {
    "tags": []
   },
   "outputs": [],
   "source": [
    "# heures_debut = [dt.time(22,12),dt.time(3,25),dt.time(16,13)]\n",
    "# heures_fin = [dt.time(3,24),dt.time(16,12),dt.time(22,11)]\n",
    "# horaire = [\"nuit\",\"jour\",\"soir\"]\n",
    "# colonneTemporaire = [dt.time(23,12),dt.time(12,12),dt.time(9,12),dt.time(16,12),dt.time(0,12)]\n",
    "\n",
    "debut_journee = -1\n",
    "avant_nuit = 1332\n",
    "avant_jour = 205\n",
    "avant_soir = 973\n",
    "fin_journee = 2400\n",
    "bins=[debut_journee,avant_jour,avant_soir,avant_nuit,fin_journee]\n",
    "heures = pd.cut(colonneTemporaire, \n",
    "      bins=bins,\n",
    "      labels=[\"NUIT\",\"JOUR\",\"SOIR\",\"NUIT2\"])"
   ]
  },
  {
   "cell_type": "code",
   "execution_count": 288,
   "metadata": {},
   "outputs": [
    {
     "output_type": "execute_result",
     "data": {
      "text/plain": "0      NUIT\n1      NUIT\n2      JOUR\n3      JOUR\n4      NUIT\n       ... \n995    NUIT\n996    NUIT\n997    NUIT\n998    NUIT\n999    NUIT\nName: DoA, Length: 1000, dtype: object"
     },
     "metadata": {},
     "execution_count": 288
    }
   ],
   "source": [
    "heures =heures.str.replace('2','')\n",
    "heures.unique()\n",
    "heures"
   ]
  }
 ],
 "metadata": {
  "kernelspec": {
   "display_name": "Python 3",
   "language": "python",
   "name": "python3"
  },
  "language_info": {
   "codemirror_mode": {
    "name": "ipython",
    "version": 3
   },
   "file_extension": ".py",
   "mimetype": "text/x-python",
   "name": "python",
   "nbconvert_exporter": "python",
   "pygments_lexer": "ipython3",
   "version": "3.8.5-final"
  }
 },
 "nbformat": 4,
 "nbformat_minor": 4
}