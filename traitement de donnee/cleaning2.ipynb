{
 "metadata": {
  "language_info": {
   "codemirror_mode": {
    "name": "ipython",
    "version": 3
   },
   "file_extension": ".py",
   "mimetype": "text/x-python",
   "name": "python",
   "nbconvert_exporter": "python",
   "pygments_lexer": "ipython3",
   "version": "3.8.5-final"
  },
  "orig_nbformat": 2,
  "kernelspec": {
   "name": "python_defaultSpec_1600862866065",
   "display_name": "Python 3.8.5 32-bit"
  }
 },
 "nbformat": 4,
 "nbformat_minor": 2,
 "cells": [
  {
   "cell_type": "code",
   "execution_count": 27,
   "metadata": {},
   "outputs": [],
   "source": [
    "import pandas as pd\n",
    "import random\n",
    "chemin = \"https://bit.ly/bitcoin-purchases2\"\n",
    "df = pd.read_csv(chemin)"
   ]
  },
  {
   "cell_type": "code",
   "execution_count": 28,
   "metadata": {},
   "outputs": [
    {
     "output_type": "execute_result",
     "data": {
      "text/plain": "                      bitcoin address wire amount       credit card\n0  1J9DVMtgvnPv4KGHL2XSzoTSt5cBBL1DXe    £8356.92  3543456448666398\n1  1HaiVQbzCTs7t1K1fckYEUi9t8ERBFRR7Q     €311,06  3584615208479876\n2  1NGPjXfDScEUSZYajAzCkxaVApTbBHC7jP    €2032,44  6370577480710876\n3  15cSYRTbcrxYinxNxk7VbkPLZG8nypdjy6    ¥8155.74  4508652385157398\n4  18j2qG1DH9YduJiBiccAq8Ak897G3E4JyZ    £3265.44   374622922103592",
      "text/html": "<div>\n<style scoped>\n    .dataframe tbody tr th:only-of-type {\n        vertical-align: middle;\n    }\n\n    .dataframe tbody tr th {\n        vertical-align: top;\n    }\n\n    .dataframe thead th {\n        text-align: right;\n    }\n</style>\n<table border=\"1\" class=\"dataframe\">\n  <thead>\n    <tr style=\"text-align: right;\">\n      <th></th>\n      <th>bitcoin address</th>\n      <th>wire amount</th>\n      <th>credit card</th>\n    </tr>\n  </thead>\n  <tbody>\n    <tr>\n      <th>0</th>\n      <td>1J9DVMtgvnPv4KGHL2XSzoTSt5cBBL1DXe</td>\n      <td>£8356.92</td>\n      <td>3543456448666398</td>\n    </tr>\n    <tr>\n      <th>1</th>\n      <td>1HaiVQbzCTs7t1K1fckYEUi9t8ERBFRR7Q</td>\n      <td>€311,06</td>\n      <td>3584615208479876</td>\n    </tr>\n    <tr>\n      <th>2</th>\n      <td>1NGPjXfDScEUSZYajAzCkxaVApTbBHC7jP</td>\n      <td>€2032,44</td>\n      <td>6370577480710876</td>\n    </tr>\n    <tr>\n      <th>3</th>\n      <td>15cSYRTbcrxYinxNxk7VbkPLZG8nypdjy6</td>\n      <td>¥8155.74</td>\n      <td>4508652385157398</td>\n    </tr>\n    <tr>\n      <th>4</th>\n      <td>18j2qG1DH9YduJiBiccAq8Ak897G3E4JyZ</td>\n      <td>£3265.44</td>\n      <td>374622922103592</td>\n    </tr>\n  </tbody>\n</table>\n</div>"
     },
     "metadata": {},
     "execution_count": 28
    }
   ],
   "source": [
    "df.head()"
   ]
  },
  {
   "cell_type": "code",
   "execution_count": 29,
   "metadata": {},
   "outputs": [
    {
     "output_type": "execute_result",
     "data": {
      "text/plain": "(1000, 3)"
     },
     "metadata": {},
     "execution_count": 29
    }
   ],
   "source": [
    "df.shape"
   ]
  },
  {
   "cell_type": "code",
   "execution_count": 30,
   "metadata": {},
   "outputs": [],
   "source": [
    "df['wire amount'] = df['wire amount'].str.replace(',','.')\n",
    "df['devise'] = df['wire amount'].str.get(0)\n",
    "df['wire amount'] = df['wire amount'].str.slice(1,None)"
   ]
  },
  {
   "cell_type": "code",
   "execution_count": 32,
   "metadata": {},
   "outputs": [],
   "source": [
    "df['wire amount'] = df['wire amount'].astype('float')"
   ]
  },
  {
   "cell_type": "code",
   "execution_count": 36,
   "metadata": {},
   "outputs": [
    {
     "output_type": "execute_result",
     "data": {
      "text/plain": "'aaaaaaaa'"
     },
     "metadata": {},
     "execution_count": 36
    }
   ],
   "source": [
    "test = \"aaaaaaaab\"\n",
    "test[:-1]"
   ]
  },
  {
   "cell_type": "code",
   "execution_count": null,
   "metadata": {},
   "outputs": [],
   "source": []
  }
 ]
}