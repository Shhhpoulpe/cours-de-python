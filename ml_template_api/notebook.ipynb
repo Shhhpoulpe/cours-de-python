{
 "metadata": {
  "language_info": {
   "codemirror_mode": {
    "name": "ipython",
    "version": 3
   },
   "file_extension": ".py",
   "mimetype": "text/x-python",
   "name": "python",
   "nbconvert_exporter": "python",
   "pygments_lexer": "ipython3",
   "version": "3.8.5-final"
  },
  "orig_nbformat": 2,
  "kernelspec": {
   "name": "python38564bite0d01b9fff0448a890998ca8de754687",
   "display_name": "Python 3.8.5 64-bit",
   "language": "python"
  }
 },
 "nbformat": 4,
 "nbformat_minor": 2,
 "cells": [
  {
   "cell_type": "code",
   "execution_count": 125,
   "metadata": {},
   "outputs": [],
   "source": [
    "import numpy as np\n",
    "import pandas as pd\n",
    "import re\n",
    "from sklearn.svm import SVC\n",
    "from sklearn.pipeline import make_pipeline\n",
    "from sklearn.gaussian_process import GaussianProcessRegressor\n",
    "from sklearn.feature_extraction.text import TfidfVectorizer\n",
    "from sklearn.multiclass import OneVsRestClassifier\n",
    "from sklearn.model_selection import train_test_split\n",
    "from stop_words import get_stop_words"
   ]
  },
  {
   "cell_type": "code",
   "execution_count": 126,
   "metadata": {},
   "outputs": [],
   "source": [
    "class DataHandler:\n",
    "    def __init__(self):\n",
    "        self.main_category = None\n",
    "        self.name = None\n",
    "        self.kickstarter = None\n",
    "        self.clf = None\n",
    "    def get_data(self):\n",
    "        print(\" - - - fetch data from gcs bucket : - - - \")\n",
    "        self.kickstarter = pd.read_csv(\"csv/ks-projects-201801.csv\",sep=',')\n",
    "        self.name = kickstarter['name']\n",
    "        self.main_category = kickstarter['main_category']\n",
    "        print(\" - - - data loaded - - - \\nFiles : \\n  - kickstarter {}\".format(self.kickstarter.shape))\n",
    "\n",
    "        print(\" - - - reducing size of the file : - - - \")\n",
    "        self.kickstarter = self.kickstarter[0:500]\n",
    "    def data_fit(self):\n",
    "        self.clf = make_pipeline(\n",
    "            TfidfVectorizer(stop_words=get_stop_words('en')),\n",
    "            OneVsRestClassifier(SVC(kernel='linear', probability=True))\n",
    "        )\n",
    "        X_train, X_test, Y_train, Y_test = train_test_split(self.main_category,self.name,test_size=0.2)\n",
    "\n",
    "        print(\" - - - start of the fit : - - - \")\n",
    "        self.clf = self.clf.fit(X=X_train, y=Y_train)\n",
    "        print(\" - - - end of the fit : - - - \")\n",
    "\n",
    "        print(\"Accuracy score is: \" + str(self.clf.score(X_test,Y_test)))\n",
    "    # def export(self):\n",
    "        # dump(self.clf, \"algo.joblib\")\n",
    "    def get_process_data(self):\n",
    "        self.get_data()\n",
    "        self.data_fit()\n",
    "        print(\" - - - data processed - - - \")"
   ]
  },
  {
   "cell_type": "code",
   "execution_count": 127,
   "metadata": {},
   "outputs": [],
   "source": [
    "d = DataHandler()"
   ]
  },
  {
   "cell_type": "code",
   "execution_count": 128,
   "metadata": {},
   "outputs": [
    {
     "output_type": "stream",
     "name": "stdout",
     "text": [
      " - - - fetch data from gcs bucket : - - - \n",
      " - - - data loaded - - - \n",
      "Files : \n",
      "  - kickstarter (378661, 15)\n",
      " - - - reducing size of the file : - - - \n",
      " - - - start of the fit : - - - \n",
      " - - - end of the fit : - - - \n",
      "Accuracy score is: 0.0\n",
      " - - - data processed - - - \n"
     ]
    }
   ],
   "source": [
    "d.get_process_data()"
   ]
  },
  {
   "cell_type": "code",
   "execution_count": 137,
   "metadata": {},
   "outputs": [
    {
     "output_type": "execute_result",
     "data": {
      "text/plain": [
       "<bound method NDFrame.head of              ID                                               name  \\\n",
       "0    1000002330                    The Songs of Adelaide & Abullah   \n",
       "1    1000003930      Greeting From Earth: ZGAC Arts Capsule For ET   \n",
       "2    1000004038                                     Where is Hank?   \n",
       "3    1000007540  ToshiCapital Rekordz Needs Help to Complete Album   \n",
       "4    1000011046  Community Film Project: The Art of Neighborhoo...   \n",
       "..          ...                                                ...   \n",
       "495  1002382304                    Defenders of the Realm: Minions   \n",
       "496  1002383422             Matt Whistler The movie - Feature Film   \n",
       "497  1002384825                                The Undoing Trilogy   \n",
       "498  1002388106                                  R.A.D. (Canceled)   \n",
       "499  1002400187  The Guardians of Salus: Book #1 in the Halix s...   \n",
       "\n",
       "           category main_category currency    deadline     goal  \\\n",
       "0            Poetry    Publishing      GBP  2015-10-09   1000.0   \n",
       "1    Narrative Film  Film & Video      USD  2017-11-01  30000.0   \n",
       "2    Narrative Film  Film & Video      USD  2013-02-26  45000.0   \n",
       "3             Music         Music      USD  2012-04-16   5000.0   \n",
       "4      Film & Video  Film & Video      USD  2015-08-29  19500.0   \n",
       "..              ...           ...      ...         ...      ...   \n",
       "495  Tabletop Games         Games      USD  2013-08-27  25000.0   \n",
       "496    Film & Video  Film & Video      USD  2011-07-08   5000.0   \n",
       "497    Film & Video  Film & Video      USD  2010-12-10  50000.0   \n",
       "498     Video Games         Games      USD  2015-12-21   6000.0   \n",
       "499     Young Adult    Publishing      USD  2017-07-23    500.0   \n",
       "\n",
       "                launched  pledged       state  backers country  usd pledged  \\\n",
       "0    2015-08-11 12:12:28      0.0      failed        0      GB          0.0   \n",
       "1    2017-09-02 04:43:57   2421.0      failed       15      US        100.0   \n",
       "2    2013-01-12 00:20:50    220.0      failed        3      US        220.0   \n",
       "3    2012-03-17 03:24:11      1.0      failed        1      US          1.0   \n",
       "4    2015-07-04 08:35:03   1283.0    canceled       14      US       1283.0   \n",
       "..                   ...      ...         ...      ...     ...          ...   \n",
       "495  2013-08-07 01:07:19  91972.5  successful      622      US      91972.5   \n",
       "496  2011-06-08 03:32:03    200.0      failed        9      US        200.0   \n",
       "497  2010-10-11 20:07:32      0.0      failed        0      US          0.0   \n",
       "498  2015-11-21 19:38:19     31.0    canceled        4      US         31.0   \n",
       "499  2017-06-03 22:46:42    525.0  successful        7      US          0.0   \n",
       "\n",
       "     usd_pledged_real  usd_goal_real  \n",
       "0                 0.0        1533.95  \n",
       "1              2421.0       30000.00  \n",
       "2               220.0       45000.00  \n",
       "3                 1.0        5000.00  \n",
       "4              1283.0       19500.00  \n",
       "..                ...            ...  \n",
       "495           91972.5       25000.00  \n",
       "496             200.0        5000.00  \n",
       "497               0.0       50000.00  \n",
       "498              31.0        6000.00  \n",
       "499             525.0         500.00  \n",
       "\n",
       "[500 rows x 15 columns]>"
      ]
     },
     "metadata": {},
     "execution_count": 137
    }
   ],
   "source": [
    "d.kickstarter.head"
   ]
  },
  {
   "cell_type": "code",
   "execution_count": null,
   "metadata": {},
   "outputs": [],
   "source": []
  }
 ]
}