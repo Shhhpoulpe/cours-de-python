{
 "metadata": {
  "language_info": {
   "codemirror_mode": {
    "name": "ipython",
    "version": 3
   },
   "file_extension": ".py",
   "mimetype": "text/x-python",
   "name": "python",
   "nbconvert_exporter": "python",
   "pygments_lexer": "ipython3",
   "version": "3.8.5-final"
  },
  "orig_nbformat": 2,
  "kernelspec": {
   "name": "python38564bite0d01b9fff0448a890998ca8de754687",
   "display_name": "Python 3.8.5 64-bit"
  }
 },
 "nbformat": 4,
 "nbformat_minor": 2,
 "cells": [
  {
   "cell_type": "code",
   "execution_count": 12,
   "metadata": {},
   "outputs": [],
   "source": [
    "import pandas as pd"
   ]
  },
  {
   "cell_type": "code",
   "execution_count": 15,
   "metadata": {},
   "outputs": [],
   "source": [
    "class DataHandler:\n",
    "    def __init__(self):\n",
    "        self.listing_final = None\n",
    "        self.price_availability = None\n",
    "        self.merge = None\n",
    "    def get_data(self):\n",
    "        self.listing_final = pd.read_csv(\"csv/listings_final.csv\",sep=';',index_col=0)\n",
    "        self.price_availability = pd.read_csv(\"csv/price_availability.csv\",sep=';')\n",
    "    def group_data(self):\n",
    "        pass\n",
    "    def get_process_data(self):\n",
    "        pass"
   ]
  },
  {
   "cell_type": "code",
   "execution_count": 16,
   "metadata": {},
   "outputs": [],
   "source": [
    "d = DataHandler()"
   ]
  },
  {
   "cell_type": "code",
   "execution_count": 17,
   "metadata": {},
   "outputs": [],
   "source": [
    "d.get_process_data()"
   ]
  }
 ]
}