{
 "metadata": {
  "language_info": {
   "codemirror_mode": {
    "name": "ipython",
    "version": 3
   },
   "file_extension": ".py",
   "mimetype": "text/x-python",
   "name": "python",
   "nbconvert_exporter": "python",
   "pygments_lexer": "ipython3",
   "version": "3.8.5-final"
  },
  "orig_nbformat": 2,
  "kernelspec": {
   "name": "python38564bite0d01b9fff0448a890998ca8de754687",
   "display_name": "Python 3.8.5 64-bit"
  }
 },
 "nbformat": 4,
 "nbformat_minor": 2,
 "cells": [
  {
   "cell_type": "code",
   "execution_count": 37,
   "metadata": {},
   "outputs": [],
   "source": [
    "import pandas as pd"
   ]
  },
  {
   "cell_type": "code",
   "execution_count": 38,
   "metadata": {},
   "outputs": [],
   "source": [
    "class DataHandler:\n",
    "    def __init__(self):\n",
    "        self.listing_final = None\n",
    "        self.price_availability = None\n",
    "        self.merge = None\n",
    "    def get_data(self):\n",
    "        print(\" - - - fetch data from gcs bucket : - - - \")\n",
    "        self.listing_final = pd.read_csv(\"csv/listings_final.csv\",sep=';',index_col=0)\n",
    "        self.price_availability = pd.read_csv(\"csv/price_availability.csv\",sep=';')\n",
    "        print(\" - - - data loaded - - - \\nFiles : \\n  - listing {} \\n  - prices {}\".format(self.listing_final.shape,self.price_availability.shape))\n",
    "    def group_data(self):\n",
    "        data = self.price_availability.groupby('listing_id')['local_price'].mean()\n",
    "        self.merge = pd.merge(data, self.listing_final, on='listing_id')\n",
    "        print(\" - - - data merged - - - \")\n",
    "    def get_process_data(self):\n",
    "        self.get_data()\n",
    "        self.group_data()\n",
    "        print(\" - - - data processed - - - \")"
   ]
  },
  {
   "cell_type": "code",
   "execution_count": 39,
   "metadata": {},
   "outputs": [],
   "source": [
    "d = DataHandler()"
   ]
  },
  {
   "cell_type": "code",
   "execution_count": 40,
   "metadata": {},
   "outputs": [
    {
     "output_type": "stream",
     "name": "stdout",
     "text": [
      " - - - fetch data from gcs bucket : - - - \n",
      " - - - data loaded - - - \n",
      "Files : \n",
      "  - listing (1000, 18) \n",
      "  - prices (4748696, 7)\n",
      " - - - data merged - - - \n",
      " - - - data processed - - - \n"
     ]
    }
   ],
   "source": [
    "d.get_process_data()"
   ]
  }
 ]
}